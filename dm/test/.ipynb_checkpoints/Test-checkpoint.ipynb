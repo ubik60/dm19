{
 "cells": [
  {
   "cell_type": "code",
   "execution_count": 15,
   "metadata": {},
   "outputs": [
    {
     "data": {
      "text/plain": [
       "module Jup :\n",
       "  sig\n",
       "    type ctx = Jupyter_notebook.ctx\n",
       "    type display_id = Jupyter_notebook.display_id\n",
       "    val cell_context : unit -> ctx\n",
       "    val display :\n",
       "      ?ctx:ctx ->\n",
       "      ?display_id:display_id ->\n",
       "      ?metadata:Yojson.Safe.json ->\n",
       "      ?base64:bool -> string -> string -> display_id\n",
       "    val display_file :\n",
       "      ?ctx:ctx ->\n",
       "      ?display_id:display_id ->\n",
       "      ?metadata:Yojson.Safe.json ->\n",
       "      ?base64:bool -> string -> string -> display_id\n",
       "    val clear_output : ?ctx:ctx -> ?wait:bool -> unit -> unit\n",
       "    val formatter : Format.formatter\n",
       "    val printf : ('a, Format.formatter, unit) format -> 'a\n",
       "    val display_formatter :\n",
       "      ?ctx:ctx ->\n",
       "      ?display_id:display_id ->\n",
       "      ?metadata:Yojson.Safe.json -> ?base64:bool -> string -> display_id\n",
       "    val showhtml : string -> display_id\n",
       "    val showsvg : string -> display_id\n",
       "  end\n"
      ]
     },
     "execution_count": 15,
     "metadata": {},
     "output_type": "execute_result"
    }
   ],
   "source": [
    "#require \"jupyter.notebook\"\n",
    "\n",
    "\n",
    "module Jup = struct \n",
    "include Jupyter_notebook\n",
    "let showhtml = display \"text/html\"\n",
    "let showsvg = display \"image/svg+xml\"\n",
    "end \n",
    "\n",
    "module HtmlUtil = struct\n",
    "end\n",
    "\n"
   ]
  },
  {
   "cell_type": "code",
   "execution_count": 4,
   "metadata": {},
   "outputs": [
    {
     "data": {
      "text/plain": [
       "type icname = Process of string | File of string\n"
      ]
     },
     "execution_count": 4,
     "metadata": {},
     "output_type": "execute_result"
    },
    {
     "data": {
      "text/plain": [
       "val openic : icname -> in_channel = <fun>\n"
      ]
     },
     "execution_count": 4,
     "metadata": {},
     "output_type": "execute_result"
    },
    {
     "data": {
      "text/plain": [
       "val readic : in_channel -> string = <fun>\n"
      ]
     },
     "execution_count": 4,
     "metadata": {},
     "output_type": "execute_result"
    }
   ],
   "source": [
    "type icname = \n",
    "    | Process of string\n",
    "    | File of string\n",
    "let openic = function \n",
    "    | Process cmd -> Unix.open_process_in cmd\n",
    "    | File filename -> open_in filename\n",
    "let readic ic = \n",
    "  let buf = ref \"\" in \n",
    "  (try\n",
    "    while true do\n",
    "      let line = input_line ic in\n",
    "      buf := !buf ^ line ^ \"\\n\"\n",
    "    done\n",
    "  with End_of_file ->\n",
    "    close_in ic); !buf"
   ]
  },
  {
   "cell_type": "code",
   "execution_count": 10,
   "metadata": {},
   "outputs": [
    {
     "data": {
      "text/plain": [
       "val svg : string =\n",
       "  \"<svg xmlns=\\\"http://www.w3.org/2000/svg\\\" viewBox=\\\"0 0 45 45\\\"><g fill=\\\"none\\\" fill-rule=\\\"evenodd\\\" stroke=\\\"#000\\\" stroke-linejoin=\\\"round\\\" stroke-linecap=\\\"round\\\" stroke-width=\\\"1.5\\\"><g fill=\\\"#000\\\" stroke=\\\"#000\\\" stroke-linecap=\\\"butt\\\"><path d=\\\"m9 36c3.39-.97 10.11.43 13.5-2 3.39 2.43 10.11 1.03 13.5 2 0 0 1\"... (* string length 742; truncated *)\n"
      ]
     },
     "execution_count": 10,
     "metadata": {},
     "output_type": "execute_result"
    }
   ],
   "source": [
    "let svg = File \"pieces/bB.svg\" |> openic |> readic "
   ]
  },
  {
   "cell_type": "code",
   "execution_count": 16,
   "metadata": {},
   "outputs": [
    {
     "data": {
      "image/svg+xml": [
       "<svg xmlns=\"http://www.w3.org/2000/svg\" viewBox=\"0 0 45 45\"><g fill=\"none\" fill-rule=\"evenodd\" stroke=\"#000\" stroke-linejoin=\"round\" stroke-linecap=\"round\" stroke-width=\"1.5\"><g fill=\"#000\" stroke=\"#000\" stroke-linecap=\"butt\"><path d=\"m9 36c3.39-.97 10.11.43 13.5-2 3.39 2.43 10.11 1.03 13.5 2 0 0 1.65.54 3 2-.68.97-1.65.99-3 .5-3.39-.97-10.11.46-13.5-1-3.39 1.46-10.11.03-13.5 1-1.354.49-2.323.47-3-.5 1.354-1.94 3-2 3-2z\"/><path d=\"m15 32c2.5 2.5 12.5 2.5 15 0 .5-1.5 0-2 0-2 0-2.5-2.5-4-2.5-4 5.5-1.5 6-11.5-5-15.5-11 4-10.5 14-5 15.5 0 0-2.5 1.5-2.5 4 0 0-.5.5 0 2z\"/><path d=\"M25 8A2.5 2.5 0 1 1 20 8 2.5 2.5 0 1 1 25 8z\"/></g><path d=\"m17.5 26h10m-12.5 4h15m-7.5-14.5v5m-2.5-2.5h5\" stroke=\"#ececec\" stroke-linejoin=\"miter\"/></g></svg>\n"
      ]
     },
     "metadata": {},
     "output_type": "display_data"
    },
    {
     "data": {
      "text/plain": [
       "- : Jup.display_id = <abstr>\n"
      ]
     },
     "execution_count": 16,
     "metadata": {},
     "output_type": "execute_result"
    }
   ],
   "source": [
    "svg |> Jup.showsvg"
   ]
  },
  {
   "cell_type": "code",
   "execution_count": 50,
   "metadata": {},
   "outputs": [
    {
     "data": {
      "text/html": [
       "<svg xmlns=\"http://www.w3.org/2000/svg\" viewBox=\"0 0 45 45\"><g fill=\"none\" fill-rule=\"evenodd\" stroke=\"#000\" stroke-linejoin=\"round\" stroke-linecap=\"round\" stroke-width=\"1.5\"><g fill=\"#000\" stroke=\"#000\" stroke-linecap=\"butt\"><path d=\"m9 36c3.39-.97 10.11.43 13.5-2 3.39 2.43 10.11 1.03 13.5 2 0 0 1.65.54 3 2-.68.97-1.65.99-3 .5-3.39-.97-10.11.46-13.5-1-3.39 1.46-10.11.03-13.5 1-1.354.49-2.323.47-3-.5 1.354-1.94 3-2 3-2z\"/><path d=\"m15 32c2.5 2.5 12.5 2.5 15 0 .5-1.5 0-2 0-2 0-2.5-2.5-4-2.5-4 5.5-1.5 6-11.5-5-15.5-11 4-10.5 14-5 15.5 0 0-2.5 1.5-2.5 4 0 0-.5.5 0 2z\"/><path d=\"M25 8A2.5 2.5 0 1 1 20 8 2.5 2.5 0 1 1 25 8z\"/></g><path d=\"m17.5 26h10m-12.5 4h15m-7.5-14.5v5m-2.5-2.5h5\" stroke=\"#ececec\" stroke-linejoin=\"miter\"/></g></svg>\n"
      ]
     },
     "metadata": {},
     "output_type": "display_data"
    },
    {
     "data": {
      "text/plain": [
       "- : Jup.display_id = <abstr>\n"
      ]
     },
     "execution_count": 50,
     "metadata": {},
     "output_type": "execute_result"
    }
   ],
   "source": [
    "svg|> Jup.showhtml"
   ]
  },
  {
   "cell_type": "code",
   "execution_count": 60,
   "metadata": {},
   "outputs": [
    {
     "data": {
      "text/html": [
       "\n",
       "<svg width=\"500\" height=\"500\" viewBox=\"0 0 45 45\" version=\"1.1\"\n",
       "     xmlns=\"http://www.w3.org/2000/svg\">\n",
       "<image width=\"45\" height=\"45\" src=pieces/bB.svg><svg xmlns=\"http://www.w3.org/2000/svg\" viewBox=\"0 0 45 45\"><g fill=\"none\" fill-rule=\"evenodd\" stroke=\"#000\" stroke-linejoin=\"round\" stroke-linecap=\"round\" stroke-width=\"1.5\"><g fill=\"#000\" stroke=\"#000\" stroke-linecap=\"butt\"><path d=\"m9 36c3.39-.97 10.11.43 13.5-2 3.39 2.43 10.11 1.03 13.5 2 0 0 1.65.54 3 2-.68.97-1.65.99-3 .5-3.39-.97-10.11.46-13.5-1-3.39 1.46-10.11.03-13.5 1-1.354.49-2.323.47-3-.5 1.354-1.94 3-2 3-2z\"/><path d=\"m15 32c2.5 2.5 12.5 2.5 15 0 .5-1.5 0-2 0-2 0-2.5-2.5-4-2.5-4 5.5-1.5 6-11.5-5-15.5-11 4-10.5 14-5 15.5 0 0-2.5 1.5-2.5 4 0 0-.5.5 0 2z\"/><path d=\"M25 8A2.5 2.5 0 1 1 20 8 2.5 2.5 0 1 1 25 8z\"/></g><path d=\"m17.5 26h10m-12.5 4h15m-7.5-14.5v5m-2.5-2.5h5\" stroke=\"#ececec\" stroke-linejoin=\"miter\"/></g></svg>\n",
       "</image>\n",
       "</svg>\n"
      ]
     },
     "metadata": {},
     "output_type": "display_data"
    },
    {
     "data": {
      "text/plain": [
       "- : Jup.display_id = <abstr>\n"
      ]
     },
     "execution_count": 60,
     "metadata": {},
     "output_type": "execute_result"
    }
   ],
   "source": [
    "{|\n",
    "<svg width=\"500\" height=\"500\" viewBox=\"0 0 45 45\" version=\"1.1\"\n",
    "     xmlns=\"http://www.w3.org/2000/svg\">\n",
    "<image width=\"45\" height=\"45\">|}\n",
    "^ svg ^\n",
    "{|</image>\n",
    "</svg>\n",
    "|} |> Jup.showhtml"
   ]
  },
  {
   "cell_type": "code",
   "execution_count": null,
   "metadata": {},
   "outputs": [],
   "source": []
  }
 ],
 "metadata": {
  "kernelspec": {
   "display_name": "OCaml 4.07.1",
   "language": "OCaml",
   "name": "ocaml-jupyter"
  },
  "language_info": {
   "codemirror_mode": "text/x-ocaml",
   "file_extension": ".ml",
   "mimetype": "text/x-ocaml",
   "name": "OCaml",
   "nbconverter_exporter": null,
   "pygments_lexer": "OCaml",
   "version": "4.07.1"
  }
 },
 "nbformat": 4,
 "nbformat_minor": 2
}
