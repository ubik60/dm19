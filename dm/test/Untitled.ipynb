{
 "cells": [
  {
   "cell_type": "code",
   "execution_count": 66,
   "metadata": {},
   "outputs": [
    {
     "data": {
      "text/plain": [
       "module Jup :\n",
       "  sig\n",
       "    type ctx = Jupyter_notebook.ctx\n",
       "    type display_id = Jupyter_notebook.display_id\n",
       "    val cell_context : unit -> ctx\n",
       "    val display :\n",
       "      ?ctx:ctx ->\n",
       "      ?display_id:display_id ->\n",
       "      ?metadata:Yojson.Safe.json ->\n",
       "      ?base64:bool -> string -> string -> display_id\n",
       "    val display_file :\n",
       "      ?ctx:ctx ->\n",
       "      ?display_id:display_id ->\n",
       "      ?metadata:Yojson.Safe.json ->\n",
       "      ?base64:bool -> string -> string -> display_id\n",
       "    val clear_output : ?ctx:ctx -> ?wait:bool -> unit -> unit\n",
       "    val formatter : Format.formatter\n",
       "    val printf : ('a, Format.formatter, unit) format -> 'a\n",
       "    val display_formatter :\n",
       "      ?ctx:ctx ->\n",
       "      ?display_id:display_id ->\n",
       "      ?metadata:Yojson.Safe.json -> ?base64:bool -> string -> display_id\n",
       "    val showhtml : string -> display_id\n",
       "    val showsvg : string -> display_id\n",
       "  end\n"
      ]
     },
     "execution_count": 66,
     "metadata": {},
     "output_type": "execute_result"
    },
    {
     "data": {
      "text/plain": [
       "module Htm :\n",
       "  sig\n",
       "    val id : 'a -> 'a\n",
       "    val mapconcat : ?f:(string -> string) -> string list -> string\n",
       "    val td : string -> string\n",
       "    val th : ?style:string -> string -> string\n",
       "    val tr : string -> string\n",
       "    val table : string -> string\n",
       "    val ltable : ?hlist:string list -> string list list -> string\n",
       "  end\n"
      ]
     },
     "execution_count": 66,
     "metadata": {},
     "output_type": "execute_result"
    },
    {
     "data": {
      "text/plain": [
       "val show : string -> Jup.display_id = <fun>\n"
      ]
     },
     "execution_count": 66,
     "metadata": {},
     "output_type": "execute_result"
    }
   ],
   "source": [
    "#require \"jupyter.notebook\"\n",
    "#require \"tyxml\"\n",
    "\n",
    "module Jup = struct \n",
    "include Jupyter_notebook\n",
    "let showhtml = display \"text/html\"\n",
    "let showsvg = display \"image/svg+xml\"\n",
    "end \n",
    "\n",
    "module Htm = struct\n",
    "let id = fun x -> x\n",
    "let mapconcat ?(f=id) list = List.fold_left (fun s d -> s ^ (f d)) \"\" list\n",
    "\n",
    "let td text = \"<td>\" ^ text ^ \"</td>\"\n",
    "let th ?(style=\"width:5ex;\") text = \"<th style=\\\"\"^style^\"\\\">\" ^ text ^ \"</th>\"\n",
    "let tr text = \"<tr>\" ^ text ^ \"</tr>\\n\"\n",
    "let table text = \"<table>\\n\" ^ text ^ \"\\n</table>\\n\"\n",
    "(** [td text], [tr text], [th text] och [table text] kapsalr in [text] i motsvarande htmlelement *)\n",
    "\n",
    "let ltable ?(hlist=[]) ll = \n",
    "    let header = hlist |> mapconcat ~f:(fun s -> th (\"&nbsp;\" ^ s ^ \"&nbsp\")) in\n",
    "    let body = ll |> List.map (mapconcat ~f:td) |> mapconcat ~f:tr\n",
    "    in \n",
    "      (if header <> \"\" then (tr header) ^ \"\\n\" else \"\") ^ body |> table\n",
    "end\n",
    "\n",
    "let show = Jup.showhtml\n",
    "open Htm"
   ]
  },
  {
   "cell_type": "code",
   "execution_count": 5,
   "metadata": {},
   "outputs": [
    {
     "data": {
      "text/plain": [
       "val gen : int -> bool list list = <fun>\n"
      ]
     },
     "execution_count": 5,
     "metadata": {},
     "output_type": "execute_result"
    },
    {
     "data": {
      "text/plain": [
       "val make1arg : ('a -> 'b) -> 'a list -> 'b = <fun>\n"
      ]
     },
     "execution_count": 5,
     "metadata": {},
     "output_type": "execute_result"
    },
    {
     "data": {
      "text/plain": [
       "val make2arg : ('a -> 'a -> 'b) -> 'a list -> 'b = <fun>\n"
      ]
     },
     "execution_count": 5,
     "metadata": {},
     "output_type": "execute_result"
    },
    {
     "data": {
      "text/plain": [
       "val make3arg : ('a -> 'a -> 'a -> 'b) -> 'a list -> 'b = <fun>\n"
      ]
     },
     "execution_count": 5,
     "metadata": {},
     "output_type": "execute_result"
    },
    {
     "data": {
      "text/plain": [
       "val make4arg : ('a -> 'a -> 'a -> 'a -> 'b) -> 'a list -> 'b = <fun>\n"
      ]
     },
     "execution_count": 5,
     "metadata": {},
     "output_type": "execute_result"
    }
   ],
   "source": []
  },
  {
   "cell_type": "code",
   "execution_count": 90,
   "metadata": {},
   "outputs": [
    {
     "data": {
      "text/plain": [
       "module Truthtable :\n",
       "  sig\n",
       "    type 'a boolarity =\n",
       "        B1 : bool boolarity\n",
       "      | B2 : (bool * bool) boolarity\n",
       "      | B3 : (bool * bool * bool) boolarity\n",
       "      | B4 : (bool * bool * bool * bool) boolarity\n",
       "      | B5 : (bool * bool * bool * bool * bool) boolarity\n",
       "      | B6 : (bool * bool * bool * bool * bool * bool) boolarity\n",
       "    val arity : 'a boolarity -> int\n",
       "    val convert_from_list : 'a boolarity -> bool list -> 'a\n",
       "    val convert_to_list : 'a boolarity -> 'a -> bool list\n",
       "    val gen : int -> bool list list\n",
       "    val truthtable :\n",
       "      ?hlist:string list -> 'a boolarity -> ('a -> bool) list -> string\n",
       "  end\n"
      ]
     },
     "execution_count": 90,
     "metadata": {},
     "output_type": "execute_result"
    }
   ],
   "source": [
    "module Truthtable = struct\n",
    "(** En typ för att hantera booleska funktioner med olika aritet. *)\n",
    "type 'a boolarity =\n",
    "| B1 : bool boolarity\n",
    "| B2 : (bool*bool) boolarity\n",
    "| B3 : (bool*bool*bool) boolarity\n",
    "| B4 : (bool*bool*bool*bool) boolarity\n",
    "| B5 : (bool*bool*bool*bool*bool) boolarity\n",
    "| B6 : (bool*bool*bool*bool*bool*bool) boolarity\n",
    "\n",
    "(** [arity tag] anger antalet komponenter i tupeln som anges av [tag] *)\n",
    "let arity: type a. a boolarity -> int = function \n",
    "B1 -> 1 | B2 -> 2 | B3 -> 3 | B4 -> 4 | B5 -> 5 | _ -> failwith \"Not implemented\"\n",
    "\n",
    "(** [convert_from_list tag lst] gör en tupel av elementen i listan [lst] *)\n",
    "let convert_from_list: type a. (a boolarity) -> (bool list) -> a = function\n",
    "    | B1 -> (function [p] -> p | _ -> failwith \"Bad type\")\n",
    "    | B2 -> (function [p;q] -> (p,q) | _ -> failwith \"Bad type\")\n",
    "    | B3 -> (function [p;q;r] -> (p,q,r) | _ -> failwith \"Bad type\")\n",
    "    | B4 -> (function [p;q;r;s] -> (p,q,r,s) | _ -> failwith \"Bad type\")\n",
    "    | B5 -> (function [p;q;r;s;t] -> (p,q,r,s,t) | _ -> failwith \"Bad type\")\n",
    "    | _ -> failwith \"Not implemented\"\n",
    "\n",
    "(** [convert_to_list tag tupel] gör en lista av elementen i tupeln [tupel] *)\n",
    "let convert_to_list: type a. (a boolarity) -> a -> (bool list) = function\n",
    "    | B1 -> fun p -> [p]\n",
    "    | B2 -> fun (p,q) -> [p; q]\n",
    "    | B3 -> fun (p,q,r) -> [p;q;r]\n",
    "    | B4 -> fun (p,q,r,s) -> [p;q;r;s]\n",
    "    | B5 -> fun (p,q,r,s,t) -> [p;q;r;s;t]\n",
    "    | _ -> failwith \"Not implemented\"\n",
    "\n",
    "(** [gen n] skapar en lista av alla $2^n$ bool-listor av längd [n] *)\n",
    "let rec gen n = \n",
    "    if n <= 1 then \n",
    "        [ [true]; [false] ] \n",
    "    else let ll = gen (n-1) in \n",
    "          List.map (fun t -> List.map (fun lst -> (t :: lst)) ll) [true; false] |> List.concat\n",
    "\n",
    "(** [truthtable ~hlist tag flist] skapar en sanningstabell där de sista kolonnerna ger funktionerna i [flist]. \n",
    "    Alla funktioner i [flist] måste ha aritet enligt [tag] *)\n",
    "let truthtable : type a. ?hlist:(string list) ->  (a boolarity) -> ((a->bool) list) -> string = \n",
    "   fun ?(hlist=[]) tag flist ->  \n",
    "       gen (arity tag) |> List.map (convert_from_list tag)\n",
    "       |> List.map (fun a -> (convert_to_list tag a) @ (List.map (fun f -> f a) flist)) \n",
    "       |> List.map (List.map (fun b -> if b then \"1\" else \"0\")) \n",
    "       |> Htm.ltable ~hlist \n",
    "end"
   ]
  },
  {
   "cell_type": "code",
   "execution_count": null,
   "metadata": {},
   "outputs": [],
   "source": []
  },
  {
   "cell_type": "code",
   "execution_count": 80,
   "metadata": {},
   "outputs": [
    {
     "data": {
      "text/plain": [
       "val convert_from_list : 'a boolarity -> bool list -> 'a = <fun>\n"
      ]
     },
     "execution_count": 80,
     "metadata": {},
     "output_type": "execute_result"
    }
   ],
   "source": []
  },
  {
   "cell_type": "code",
   "execution_count": null,
   "metadata": {},
   "outputs": [],
   "source": []
  },
  {
   "cell_type": "code",
   "execution_count": 45,
   "metadata": {},
   "outputs": [
    {
     "data": {
      "text/plain": [
       "val gen : int -> bool list list = <fun>\n"
      ]
     },
     "execution_count": 45,
     "metadata": {},
     "output_type": "execute_result"
    }
   ],
   "source": []
  },
  {
   "cell_type": "code",
   "execution_count": 47,
   "metadata": {},
   "outputs": [
    {
     "data": {
      "text/plain": [
       "val gentable : 'a boolarity -> 'a list = <fun>\n"
      ]
     },
     "execution_count": 47,
     "metadata": {},
     "output_type": "execute_result"
    }
   ],
   "source": []
  },
  {
   "cell_type": "code",
   "execution_count": 52,
   "metadata": {},
   "outputs": [
    {
     "data": {
      "text/plain": [
       "val stringtable : 'a boolarity -> ('a -> bool) list -> string list list =\n",
       "  <fun>\n"
      ]
     },
     "execution_count": 52,
     "metadata": {},
     "output_type": "execute_result"
    }
   ],
   "source": []
  },
  {
   "cell_type": "code",
   "execution_count": 76,
   "metadata": {},
   "outputs": [
    {
     "data": {
      "text/plain": [
       "val f1 : bool * bool -> bool = <fun>\n"
      ]
     },
     "execution_count": 76,
     "metadata": {},
     "output_type": "execute_result"
    },
    {
     "data": {
      "text/plain": [
       "val f2 : bool * bool -> bool = <fun>\n"
      ]
     },
     "execution_count": 76,
     "metadata": {},
     "output_type": "execute_result"
    }
   ],
   "source": [
    "let f1 (p,q) = p && q\n",
    "let f2 (p,q) = p || q"
   ]
  },
  {
   "cell_type": "code",
   "execution_count": 77,
   "metadata": {},
   "outputs": [
    {
     "data": {
      "text/html": [
       "<table>\n",
       "<tr><th style=\"width:5ex;\">&nbsp;$p$&nbsp</th><th style=\"width:5ex;\">&nbsp;$q$&nbsp</th><th style=\"width:5ex;\">&nbsp;$p \\wedge q$&nbsp</th><th style=\"width:5ex;\">&nbsp;$p\\vee q$&nbsp</th></tr>\n",
       "\n",
       "<tr><td>1</td><td>1</td><td>1</td><td>1</td></tr>\n",
       "<tr><td>1</td><td>0</td><td>0</td><td>1</td></tr>\n",
       "<tr><td>0</td><td>1</td><td>0</td><td>1</td></tr>\n",
       "<tr><td>0</td><td>0</td><td>0</td><td>0</td></tr>\n",
       "\n",
       "</table>\n"
      ]
     },
     "metadata": {},
     "output_type": "display_data"
    },
    {
     "data": {
      "text/plain": [
       "- : Jup.display_id = <abstr>\n"
      ]
     },
     "execution_count": 77,
     "metadata": {},
     "output_type": "execute_result"
    }
   ],
   "source": [
    "let _ = stringtable B2 [f1; f2] |> Htm.ltable ~hlist:[\"$p$\";\"$q$\";\"$p \\\\wedge q$\"; \"$p\\\\vee q$\"] |> show"
   ]
  },
  {
   "cell_type": "code",
   "execution_count": 78,
   "metadata": {},
   "outputs": [
    {
     "data": {
      "text/plain": [
       "val f1 : bool * bool * bool * bool -> bool = <fun>\n"
      ]
     },
     "execution_count": 78,
     "metadata": {},
     "output_type": "execute_result"
    },
    {
     "data": {
      "text/plain": [
       "val f2 : bool * bool * bool * 'a -> bool = <fun>\n"
      ]
     },
     "execution_count": 78,
     "metadata": {},
     "output_type": "execute_result"
    }
   ],
   "source": [
    "let f1 (p,q,r,s) = p && (not q) || (not r) || s\n",
    "let f2 (p,q,r,s) = (p || q) && r"
   ]
  },
  {
   "cell_type": "code",
   "execution_count": 79,
   "metadata": {},
   "outputs": [
    {
     "data": {
      "text/html": [
       "<table>\n",
       "<tr><th style=\"width:5ex;\">&nbsp;$p$&nbsp</th><th style=\"width:5ex;\">&nbsp;$q$&nbsp</th><th style=\"width:5ex;\">&nbsp;$r$&nbsp</th><th style=\"width:5ex;\">&nbsp;$s$&nbsp</th><th style=\"width:5ex;\">&nbsp;$f_1$&nbsp</th><th style=\"width:5ex;\">&nbsp;$f_2$&nbsp</th></tr>\n",
       "\n",
       "<tr><td>1</td><td>1</td><td>1</td><td>1</td><td>1</td><td>1</td></tr>\n",
       "<tr><td>1</td><td>1</td><td>1</td><td>0</td><td>0</td><td>1</td></tr>\n",
       "<tr><td>1</td><td>1</td><td>0</td><td>1</td><td>1</td><td>0</td></tr>\n",
       "<tr><td>1</td><td>1</td><td>0</td><td>0</td><td>1</td><td>0</td></tr>\n",
       "<tr><td>1</td><td>0</td><td>1</td><td>1</td><td>1</td><td>1</td></tr>\n",
       "<tr><td>1</td><td>0</td><td>1</td><td>0</td><td>1</td><td>1</td></tr>\n",
       "<tr><td>1</td><td>0</td><td>0</td><td>1</td><td>1</td><td>0</td></tr>\n",
       "<tr><td>1</td><td>0</td><td>0</td><td>0</td><td>1</td><td>0</td></tr>\n",
       "<tr><td>0</td><td>1</td><td>1</td><td>1</td><td>1</td><td>1</td></tr>\n",
       "<tr><td>0</td><td>1</td><td>1</td><td>0</td><td>0</td><td>1</td></tr>\n",
       "<tr><td>0</td><td>1</td><td>0</td><td>1</td><td>1</td><td>0</td></tr>\n",
       "<tr><td>0</td><td>1</td><td>0</td><td>0</td><td>1</td><td>0</td></tr>\n",
       "<tr><td>0</td><td>0</td><td>1</td><td>1</td><td>1</td><td>0</td></tr>\n",
       "<tr><td>0</td><td>0</td><td>1</td><td>0</td><td>0</td><td>0</td></tr>\n",
       "<tr><td>0</td><td>0</td><td>0</td><td>1</td><td>1</td><td>0</td></tr>\n",
       "<tr><td>0</td><td>0</td><td>0</td><td>0</td><td>1</td><td>0</td></tr>\n",
       "\n",
       "</table>\n"
      ]
     },
     "metadata": {},
     "output_type": "display_data"
    },
    {
     "data": {
      "text/plain": [
       "- : Jup.display_id = <abstr>\n"
      ]
     },
     "execution_count": 79,
     "metadata": {},
     "output_type": "execute_result"
    }
   ],
   "source": [
    "let _ = stringtable B4 [ f1; f2 ] |> Htm.ltable ~hlist:[\"$p$\";\"$q$\";\"$r$\"; \"$s$\"; \"$f_1$\"; \"$f_2$\"] |> show"
   ]
  },
  {
   "cell_type": "code",
   "execution_count": 3,
   "metadata": {},
   "outputs": [
    {
     "data": {
      "text/plain": [
       "val prb : bool list -> string list = <fun>\n"
      ]
     },
     "execution_count": 3,
     "metadata": {},
     "output_type": "execute_result"
    },
    {
     "ename": "error",
     "evalue": "compile_error",
     "output_type": "error",
     "traceback": [
      "\u001b[32mFile \"[3]\", line 6, characters 91-97:\n\u001b[31mError: Unbound value ltable\n\u001b[36m   5: \u001b[30m    let flist = List.map make2arg flista in \n\u001b[36m   6: \u001b[30m      gen 2 |> List.map (fun lb -> lb @ List.map (fun f -> f lb) flist) |> List.map prb |> \u001b[4mltable\u001b[0m\u001b[30m ~hlist:hlist\u001b[0m\n"
     ]
    }
   ],
   "source": []
  },
  {
   "cell_type": "code",
   "execution_count": null,
   "metadata": {},
   "outputs": [],
   "source": []
  }
 ],
 "metadata": {
  "kernelspec": {
   "display_name": "OCaml 4.07.1",
   "language": "OCaml",
   "name": "ocaml-jupyter"
  },
  "language_info": {
   "codemirror_mode": "text/x-ocaml",
   "file_extension": ".ml",
   "mimetype": "text/x-ocaml",
   "name": "OCaml",
   "nbconverter_exporter": null,
   "pygments_lexer": "OCaml",
   "version": "4.07.1"
  }
 },
 "nbformat": 4,
 "nbformat_minor": 2
}
