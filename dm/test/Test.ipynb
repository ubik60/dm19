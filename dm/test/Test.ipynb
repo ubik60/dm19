{
 "cells": [
  {
   "cell_type": "code",
   "execution_count": 61,
   "metadata": {},
   "outputs": [
    {
     "data": {
      "text/plain": [
       "module Jup :\n",
       "  sig\n",
       "    type ctx = Jupyter_notebook.ctx\n",
       "    type display_id = Jupyter_notebook.display_id\n",
       "    val cell_context : unit -> ctx\n",
       "    val display :\n",
       "      ?ctx:ctx ->\n",
       "      ?display_id:display_id ->\n",
       "      ?metadata:Yojson.Safe.json ->\n",
       "      ?base64:bool -> string -> string -> display_id\n",
       "    val display_file :\n",
       "      ?ctx:ctx ->\n",
       "      ?display_id:display_id ->\n",
       "      ?metadata:Yojson.Safe.json ->\n",
       "      ?base64:bool -> string -> string -> display_id\n",
       "    val clear_output : ?ctx:ctx -> ?wait:bool -> unit -> unit\n",
       "    val formatter : Format.formatter\n",
       "    val printf : ('a, Format.formatter, unit) format -> 'a\n",
       "    val display_formatter :\n",
       "      ?ctx:ctx ->\n",
       "      ?display_id:display_id ->\n",
       "      ?metadata:Yojson.Safe.json -> ?base64:bool -> string -> display_id\n",
       "    val showhtml : string -> display_id\n",
       "    val showsvg : string -> display_id\n",
       "  end\n"
      ]
     },
     "execution_count": 61,
     "metadata": {},
     "output_type": "execute_result"
    },
    {
     "data": {
      "text/plain": [
       "module HtmlUtil : sig  end\n"
      ]
     },
     "execution_count": 61,
     "metadata": {},
     "output_type": "execute_result"
    },
    {
     "data": {
      "text/plain": [
       "val show : string -> Jup.display_id = <fun>\n"
      ]
     },
     "execution_count": 61,
     "metadata": {},
     "output_type": "execute_result"
    }
   ],
   "source": [
    "#require \"jupyter.notebook\"\n",
    "\n",
    "\n",
    "module Jup = struct \n",
    "include Jupyter_notebook\n",
    "let showhtml = display \"text/html\"\n",
    "let showsvg = display \"image/svg+xml\"\n",
    "end \n",
    "\n",
    "module HtmlUtil = struct\n",
    "end\n",
    "\n",
    "let show = Jup.showhtml"
   ]
  },
  {
   "cell_type": "code",
   "execution_count": 4,
   "metadata": {},
   "outputs": [
    {
     "data": {
      "text/plain": [
       "type icname = Process of string | File of string\n"
      ]
     },
     "execution_count": 4,
     "metadata": {},
     "output_type": "execute_result"
    },
    {
     "data": {
      "text/plain": [
       "val openic : icname -> in_channel = <fun>\n"
      ]
     },
     "execution_count": 4,
     "metadata": {},
     "output_type": "execute_result"
    },
    {
     "data": {
      "text/plain": [
       "val readic : in_channel -> string = <fun>\n"
      ]
     },
     "execution_count": 4,
     "metadata": {},
     "output_type": "execute_result"
    }
   ],
   "source": [
    "type icname = \n",
    "    | Process of string\n",
    "    | File of string\n",
    "let openic = function \n",
    "    | Process cmd -> Unix.open_process_in cmd\n",
    "    | File filename -> open_in filename\n",
    "let readallic ic = \n",
    "  let buf = ref \"\" in \n",
    "  (try\n",
    "    while true do\n",
    "      let line = input_line ic in\n",
    "      buf := !buf ^ line ^ \"\\n\"\n",
    "    done\n",
    "  with End_of_file ->\n",
    "    close_in ic); !buf"
   ]
  },
  {
   "cell_type": "code",
   "execution_count": 71,
   "metadata": {},
   "outputs": [
    {
     "data": {
      "text/plain": [
       "val svg : string =\n",
       "  \"<svg xmlns=\\\"http://www.w3.org/2000/svg\\\" id=\\\"bB\\\" viewBox=\\\"0 0 45 45\\\"><g fill=\\\"none\\\" fill-rule=\\\"evenodd\\\" stroke=\\\"#000\\\" stroke-linejoin=\\\"round\\\" stroke-linecap=\\\"round\\\" stroke-width=\\\"1.5\\\"><g fill=\\\"#000\\\" stroke=\\\"#000\\\" stroke-linecap=\\\"butt\\\"><path d=\\\"m9 36c3.39-.97 10.11.43 13.5-2 3.39 2.43 10.11 1.03 13.5\"... (* string length 750; truncated *)\n"
      ]
     },
     "execution_count": 71,
     "metadata": {},
     "output_type": "execute_result"
    }
   ],
   "source": [
    "let svg = File \"bBid.svg\" |> openic |> readic "
   ]
  },
  {
   "cell_type": "code",
   "execution_count": 72,
   "metadata": {},
   "outputs": [
    {
     "data": {
      "image/svg+xml": [
       "<svg xmlns=\"http://www.w3.org/2000/svg\" id=\"bB\" viewBox=\"0 0 45 45\"><g fill=\"none\" fill-rule=\"evenodd\" stroke=\"#000\" stroke-linejoin=\"round\" stroke-linecap=\"round\" stroke-width=\"1.5\"><g fill=\"#000\" stroke=\"#000\" stroke-linecap=\"butt\"><path d=\"m9 36c3.39-.97 10.11.43 13.5-2 3.39 2.43 10.11 1.03 13.5 2 0 0 1.65.54 3 2-.68.97-1.65.99-3 .5-3.39-.97-10.11.46-13.5-1-3.39 1.46-10.11.03-13.5 1-1.354.49-2.323.47-3-.5 1.354-1.94 3-2 3-2z\"/><path d=\"m15 32c2.5 2.5 12.5 2.5 15 0 .5-1.5 0-2 0-2 0-2.5-2.5-4-2.5-4 5.5-1.5 6-11.5-5-15.5-11 4-10.5 14-5 15.5 0 0-2.5 1.5-2.5 4 0 0-.5.5 0 2z\"/><path d=\"M25 8A2.5 2.5 0 1 1 20 8 2.5 2.5 0 1 1 25 8z\"/></g><path d=\"m17.5 26h10m-12.5 4h15m-7.5-14.5v5m-2.5-2.5h5\" stroke=\"#ececec\" stroke-linejoin=\"miter\"/></g></svg>\n"
      ]
     },
     "metadata": {},
     "output_type": "display_data"
    },
    {
     "data": {
      "text/plain": [
       "- : Jup.display_id = <abstr>\n"
      ]
     },
     "execution_count": 72,
     "metadata": {},
     "output_type": "execute_result"
    }
   ],
   "source": [
    "svg |> Jup.showsvg"
   ]
  },
  {
   "cell_type": "code",
   "execution_count": 63,
   "metadata": {},
   "outputs": [
    {
     "data": {
      "text/html": [
       "<svg xmlns=\"http://www.w3.org/2000/svg\" viewBox=\"0 0 45 45\"><g fill=\"none\" fill-rule=\"evenodd\" stroke=\"#000\" stroke-linejoin=\"round\" stroke-linecap=\"round\" stroke-width=\"1.5\"><g fill=\"#000\" stroke=\"#000\" stroke-linecap=\"butt\"><path d=\"m9 36c3.39-.97 10.11.43 13.5-2 3.39 2.43 10.11 1.03 13.5 2 0 0 1.65.54 3 2-.68.97-1.65.99-3 .5-3.39-.97-10.11.46-13.5-1-3.39 1.46-10.11.03-13.5 1-1.354.49-2.323.47-3-.5 1.354-1.94 3-2 3-2z\"/><path d=\"m15 32c2.5 2.5 12.5 2.5 15 0 .5-1.5 0-2 0-2 0-2.5-2.5-4-2.5-4 5.5-1.5 6-11.5-5-15.5-11 4-10.5 14-5 15.5 0 0-2.5 1.5-2.5 4 0 0-.5.5 0 2z\"/><path d=\"M25 8A2.5 2.5 0 1 1 20 8 2.5 2.5 0 1 1 25 8z\"/></g><path d=\"m17.5 26h10m-12.5 4h15m-7.5-14.5v5m-2.5-2.5h5\" stroke=\"#ececec\" stroke-linejoin=\"miter\"/></g></svg>\n"
      ]
     },
     "metadata": {},
     "output_type": "display_data"
    },
    {
     "data": {
      "text/plain": [
       "- : Jup.display_id = <abstr>\n"
      ]
     },
     "execution_count": 63,
     "metadata": {},
     "output_type": "execute_result"
    }
   ],
   "source": [
    "svg|> show"
   ]
  },
  {
   "cell_type": "code",
   "execution_count": 66,
   "metadata": {},
   "outputs": [
    {
     "data": {
      "text/html": [
       "\n",
       "<svg width=\"100\" height=\"100\" viewBox=\"0 0 45 45\" version=\"1.1\"\n",
       "     xmlns=\"http://www.w3.org/2000/svg\"><svg xmlns=\"http://www.w3.org/2000/svg\" viewBox=\"0 0 45 45\"><g fill=\"none\" fill-rule=\"evenodd\" stroke=\"#000\" stroke-linejoin=\"round\" stroke-linecap=\"round\" stroke-width=\"1.5\"><g fill=\"#000\" stroke=\"#000\" stroke-linecap=\"butt\"><path d=\"m9 36c3.39-.97 10.11.43 13.5-2 3.39 2.43 10.11 1.03 13.5 2 0 0 1.65.54 3 2-.68.97-1.65.99-3 .5-3.39-.97-10.11.46-13.5-1-3.39 1.46-10.11.03-13.5 1-1.354.49-2.323.47-3-.5 1.354-1.94 3-2 3-2z\"/><path d=\"m15 32c2.5 2.5 12.5 2.5 15 0 .5-1.5 0-2 0-2 0-2.5-2.5-4-2.5-4 5.5-1.5 6-11.5-5-15.5-11 4-10.5 14-5 15.5 0 0-2.5 1.5-2.5 4 0 0-.5.5 0 2z\"/><path d=\"M25 8A2.5 2.5 0 1 1 20 8 2.5 2.5 0 1 1 25 8z\"/></g><path d=\"m17.5 26h10m-12.5 4h15m-7.5-14.5v5m-2.5-2.5h5\" stroke=\"#ececec\" stroke-linejoin=\"miter\"/></g></svg>\n",
       "\n",
       "</svg>\n"
      ]
     },
     "metadata": {},
     "output_type": "display_data"
    },
    {
     "data": {
      "text/plain": [
       "- : Jup.display_id = <abstr>\n"
      ]
     },
     "execution_count": 66,
     "metadata": {},
     "output_type": "execute_result"
    }
   ],
   "source": [
    "{|\n",
    "<svg width=\"100\" height=\"100\" viewBox=\"0 0 45 45\" version=\"1.1\"\n",
    "     xmlns=\"http://www.w3.org/2000/svg\">|}\n",
    "^ svg ^\n",
    "{|\n",
    "</svg>\n",
    "|} |> show"
   ]
  },
  {
   "cell_type": "code",
   "execution_count": 87,
   "metadata": {},
   "outputs": [
    {
     "data": {
      "text/html": [
       "<svg width=\"50%\" viewBox=\"0 0 30 10\">\n",
       "  <circle id=\"myCircle\" cx=\"5\" cy=\"5\" r=\"4\"/>\n",
       "  <use href=\"#myCircle\" x=\"10\" fill=\"blue\"/>\n",
       "  <use href=\"#myCircle\" x=\"20\" fill=\"white\" stroke=\"blue\"/>\n",
       "  <use href=\"#bB\" x=50>\n",
       "</svg>"
      ]
     },
     "metadata": {},
     "output_type": "display_data"
    },
    {
     "data": {
      "text/plain": [
       "- : Jup.display_id = <abstr>\n"
      ]
     },
     "execution_count": 87,
     "metadata": {},
     "output_type": "execute_result"
    }
   ],
   "source": [
    "{|<svg width=\"50%\" viewBox=\"0 0 30 10\">\n",
    "  <circle id=\"myCircle\" cx=\"5\" cy=\"5\" r=\"4\"/>\n",
    "  <use href=\"#myCircle\" x=\"10\" fill=\"blue\"/>\n",
    "  <use href=\"#myCircle\" x=\"20\" fill=\"white\" stroke=\"blue\"/>\n",
    "  <use href=\"#bB\" x=50>\n",
    "</svg>|} |> show"
   ]
  },
  {
   "cell_type": "code",
   "execution_count": 97,
   "metadata": {},
   "outputs": [
    {
     "data": {
      "text/html": [
       "\n",
       "<svg viewBox=\"0 0 40 40\">\n",
       "<use href=\"pieces/bB.svg\"/>\n",
       "</svg>\n"
      ]
     },
     "metadata": {},
     "output_type": "display_data"
    },
    {
     "data": {
      "text/plain": [
       "- : Jup.display_id = <abstr>\n"
      ]
     },
     "execution_count": 97,
     "metadata": {},
     "output_type": "execute_result"
    }
   ],
   "source": [
    "{|\n",
    "<svg viewBox=\"0 0 40 40\">\n",
    "<use href=\"pieces/bB.svg\"/>\n",
    "</svg>\n",
    "|} |> show"
   ]
  },
  {
   "cell_type": "code",
   "execution_count": 96,
   "metadata": {},
   "outputs": [
    {
     "data": {
      "text/html": [
       "\n",
       "<div style=\"background:#ffe7e8;  width:40%;  border: 2px solid #e66465;\">\n",
       "    <p style=\"margin: 15px; line-height: 1.5; text-align: center; color:black;\">\n",
       "        Well, I am the slime from your video<br>\n",
       "        Oozin' along on your livin' room floor.</p>\n",
       "</div>\n"
      ]
     },
     "metadata": {},
     "output_type": "display_data"
    },
    {
     "data": {
      "text/plain": [
       "- : Jup.display_id = <abstr>\n"
      ]
     },
     "execution_count": 96,
     "metadata": {},
     "output_type": "execute_result"
    }
   ],
   "source": [
    "{|\n",
    "<div style=\"background:#ffe7e8;  width:40%;  border: 2px solid #e66465;\">\n",
    "    <p style=\"margin: 15px; line-height: 1.5; text-align: center; color:black;\">\n",
    "        Well, I am the slime from your video<br>\n",
    "        Oozin' along on your livin' room floor.</p>\n",
    "</div>\n",
    "|} |> show"
   ]
  },
  {
   "cell_type": "code",
   "execution_count": null,
   "metadata": {},
   "outputs": [],
   "source": []
  }
 ],
 "metadata": {
  "kernelspec": {
   "display_name": "OCaml 4.07.1",
   "language": "OCaml",
   "name": "ocaml-jupyter"
  },
  "language_info": {
   "codemirror_mode": "text/x-ocaml",
   "file_extension": ".ml",
   "mimetype": "text/x-ocaml",
   "name": "OCaml",
   "nbconverter_exporter": null,
   "pygments_lexer": "OCaml",
   "version": "4.07.1"
  }
 },
 "nbformat": 4,
 "nbformat_minor": 2
}
