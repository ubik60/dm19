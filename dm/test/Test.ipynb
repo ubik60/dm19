{
 "cells": [
  {
   "cell_type": "markdown",
   "metadata": {},
   "source": [
    "## Några hjälprutiner för html "
   ]
  },
  {
   "cell_type": "code",
   "execution_count": 64,
   "metadata": {},
   "outputs": [
    {
     "name": "stderr",
     "output_type": "stream",
     "text": [
      "/home/ajj/.opam/4.07.1/lib/seq: added to search path\n",
      "/home/ajj/.opam/4.07.1/lib/re: added to search path\n",
      "/home/ajj/.opam/4.07.1/lib/re/re.cma: loaded\n",
      "/home/ajj/.opam/4.07.1/lib/uchar: added to search path\n",
      "/home/ajj/.opam/4.07.1/lib/uutf: added to search path\n",
      "/home/ajj/.opam/4.07.1/lib/uutf/uutf.cma: loaded\n",
      "/home/ajj/.opam/4.07.1/lib/tyxml/functor: added to search path\n",
      "/home/ajj/.opam/4.07.1/lib/tyxml/functor/tyxml_f.cma: loaded\n",
      "/home/ajj/.opam/4.07.1/lib/ocaml/compiler-libs/ocamlbytecomp.cma: loaded\n",
      "/home/ajj/.opam/4.07.1/lib/ocaml/compiler-libs/ocamltoplevel.cma: loaded\n",
      "/home/ajj/.opam/4.07.1/lib/tyxml/top: added to search path\n",
      "/home/ajj/.opam/4.07.1/lib/tyxml/top/tyxml_top.cma: loaded\n"
     ]
    },
    {
     "name": "stdout",
     "output_type": "stream",
     "text": [
      "Exception: Typetexp.Error (_, _, _).\n"
     ]
    },
    {
     "name": "stderr",
     "output_type": "stream",
     "text": [
      "/home/ajj/.opam/4.07.1/lib/tyxml: added to search path\n",
      "/home/ajj/.opam/4.07.1/lib/tyxml/tyxml.cma: loaded\n"
     ]
    },
    {
     "data": {
      "text/plain": [
       "module Jup :\n",
       "  sig\n",
       "    type ctx = Jupyter_notebook.ctx\n",
       "    type display_id = Jupyter_notebook.display_id\n",
       "    val cell_context : unit -> ctx\n",
       "    val display :\n",
       "      ?ctx:ctx ->\n",
       "      ?display_id:display_id ->\n",
       "      ?metadata:Yojson.Safe.json ->\n",
       "      ?base64:bool -> string -> string -> display_id\n",
       "    val display_file :\n",
       "      ?ctx:ctx ->\n",
       "      ?display_id:display_id ->\n",
       "      ?metadata:Yojson.Safe.json ->\n",
       "      ?base64:bool -> string -> string -> display_id\n",
       "    val clear_output : ?ctx:ctx -> ?wait:bool -> unit -> unit\n",
       "    val formatter : Format.formatter\n",
       "    val printf : ('a, Format.formatter, unit) format -> 'a\n",
       "    val display_formatter :\n",
       "      ?ctx:ctx ->\n",
       "      ?display_id:display_id ->\n",
       "      ?metadata:Yojson.Safe.json -> ?base64:bool -> string -> display_id\n",
       "    val showhtml : string -> display_id\n",
       "    val showsvg : string -> display_id\n",
       "  end\n"
      ]
     },
     "execution_count": 64,
     "metadata": {},
     "output_type": "execute_result"
    },
    {
     "data": {
      "text/plain": [
       "module Htm :\n",
       "  sig\n",
       "    val id : 'a -> 'a\n",
       "    val mapconcat : ?f:(string -> string) -> string list -> string\n",
       "    val td : string -> string\n",
       "    val th : string -> string\n",
       "    val tr : string -> string\n",
       "    val table : string -> string\n",
       "    val ltable : ?hlist:string list -> string list list -> string\n",
       "  end\n"
      ]
     },
     "execution_count": 64,
     "metadata": {},
     "output_type": "execute_result"
    },
    {
     "data": {
      "text/plain": [
       "val show : string -> Jup.display_id = <fun>\n"
      ]
     },
     "execution_count": 64,
     "metadata": {},
     "output_type": "execute_result"
    }
   ],
   "source": [
    "#require \"jupyter.notebook\"\n",
    "#require \"tyxml\"\n",
    "\n",
    "module Jup = struct \n",
    "include Jupyter_notebook\n",
    "let showhtml = display \"text/html\"\n",
    "let showsvg = display \"image/svg+xml\"\n",
    "end \n",
    "\n",
    "module Htm = struct\n",
    "let id = fun x -> x\n",
    "let mapconcat ?(f=id) list = List.fold_left (fun s d -> s ^ (f d)) \"\" list\n",
    "\n",
    "let td text = \"<td>\" ^ text ^ \"</td>\"\n",
    "let th text = \"<th>\" ^ text ^ \"</th>\"\n",
    "let tr text = \"<tr>\" ^ text ^ \"</tr>\\n\"\n",
    "let table text = \"<table>\\n\" ^ text ^ \"\\n</table>\\n\"\n",
    "(** [td text], [tr text], [th text] och [table text] kapsalr in [text] i motsvarande htmlelement *)\n",
    "\n",
    "let ltable ?(hlist=[]) ll = \n",
    "    let header = hlist |> mapconcat ~f:th in\n",
    "    let body = ll |> List.map (mapconcat ~f:td) |> mapconcat ~f:tr\n",
    "    in \n",
    "      (if header <> \"\" then (tr header) ^ \"\\n\" else \"\") ^ body |> table\n",
    "end\n",
    "\n",
    "\n",
    "let show = Jup.showhtml\n",
    "(** [show str] tolkar [str] som html och ger formatterad utdata *)\n"
   ]
  },
  {
   "cell_type": "code",
   "execution_count": null,
   "metadata": {},
   "outputs": [],
   "source": []
  },
  {
   "cell_type": "code",
   "execution_count": null,
   "metadata": {},
   "outputs": [],
   "source": [
    "let rec gen n = \n",
    "    if n <= 1 then \n",
    "        [ [true]; [false] ] \n",
    "    else let lll = gen (n-1) in \n",
    "          List.map (fun t -> List.map (fun lst -> (t :: lst)) lll) [true; false] |> List.concat\n",
    "          \n",
    "let make1arg f = function [p] -> f p           | _ -> failwith \"Bad input!\"\n",
    "let make2arg f = function [p; q] -> f p q      | _ -> failwith \"Bad input!\"\n",
    "let make3arg f = function [p; q; r] -> f p q r | _ -> failwith \"Bad input!\"\n",
    "let make4arg f = function [p; q; r; s] -> f p q r s | _ -> failwith \"Bad input!\"\n",
    "(** [makeXarg f] ger en funktion som tar en lista med [X] element *)"
   ]
  },
  {
   "cell_type": "code",
   "execution_count": null,
   "metadata": {},
   "outputs": [],
   "source": []
  },
  {
   "cell_type": "code",
   "execution_count": 121,
   "metadata": {},
   "outputs": [
    {
     "data": {
      "text/plain": [
       "val row1 : [> Html_types.tr ] Tyxml.Html.elt = <abstr>\n"
      ]
     },
     "execution_count": 121,
     "metadata": {},
     "output_type": "execute_result"
    },
    {
     "data": {
      "text/plain": [
       "val div1 : [> Html_types.div ] Tyxml.Html.elt = <abstr>\n"
      ]
     },
     "execution_count": 121,
     "metadata": {},
     "output_type": "execute_result"
    },
    {
     "data": {
      "text/plain": [
       "val tit1 : [> Html_types.title ] Tyxml.Html.elt = <abstr>\n"
      ]
     },
     "execution_count": 121,
     "metadata": {},
     "output_type": "execute_result"
    },
    {
     "data": {
      "text/plain": [
       "val hdr1 : [> Html_types.h3 ] Tyxml.Html.elt = <abstr>\n"
      ]
     },
     "execution_count": 121,
     "metadata": {},
     "output_type": "execute_result"
    },
    {
     "data": {
      "text/plain": [
       "val doc1 : [> Html_types.html ] Tyxml.Html.elt = <abstr>\n"
      ]
     },
     "execution_count": 121,
     "metadata": {},
     "output_type": "execute_result"
    }
   ],
   "source": [
    "open Tyxml\n",
    "open Html\n",
    "let row1 = tr [td [txt \"A\"]; td [txt \"B\"]]\n",
    "let div1 = div [table [row1; row1]]\n",
    "let tit1 = title (txt \"AAAA\")\n",
    "let hdr1 = h3 [txt \"Anders\"]\n",
    "let doc1 = html (head tit1 []) (body [hdr1; div1])"
   ]
  },
  {
   "cell_type": "code",
   "execution_count": 120,
   "metadata": {},
   "outputs": [
    {
     "data": {
      "text/html": [
       "<div><table><tr><td>A</td><td>B</td></tr><tr><td>A</td><td>B</td></tr></table></div>"
      ]
     },
     "metadata": {},
     "output_type": "display_data"
    },
    {
     "data": {
      "text/plain": [
       "- : Jup.display_id = <abstr>\n"
      ]
     },
     "execution_count": 120,
     "metadata": {},
     "output_type": "execute_result"
    },
    {
     "data": {
      "text/html": [
       "<!DOCTYPE html>\n",
       "<html xmlns=\"http://www.w3.org/1999/xhtml\"><head><title>AAAA</title></head><body><h3>Anders</h3><div><table><tr><td>A</td><td>B</td></tr><tr><td>A</td><td>B</td></tr></table></div></body></html>"
      ]
     },
     "metadata": {},
     "output_type": "display_data"
    },
    {
     "data": {
      "text/plain": [
       "- : Jup.display_id = <abstr>\n"
      ]
     },
     "execution_count": 120,
     "metadata": {},
     "output_type": "execute_result"
    }
   ],
   "source": [
    "let _ = Format.asprintf \"%a\" (Tyxml.Html.pp_elt ()) div1 |> show\n",
    "let _ = Format.asprintf \"%a\" (Tyxml.Html.pp ()) doc1 |> show"
   ]
  },
  {
   "cell_type": "code",
   "execution_count": 4,
   "metadata": {},
   "outputs": [
    {
     "data": {
      "text/plain": [
       "type icname = Process of string | File of string\n"
      ]
     },
     "execution_count": 4,
     "metadata": {},
     "output_type": "execute_result"
    },
    {
     "data": {
      "text/plain": [
       "val openic : icname -> in_channel = <fun>\n"
      ]
     },
     "execution_count": 4,
     "metadata": {},
     "output_type": "execute_result"
    },
    {
     "data": {
      "text/plain": [
       "val readic : in_channel -> string = <fun>\n"
      ]
     },
     "execution_count": 4,
     "metadata": {},
     "output_type": "execute_result"
    }
   ],
   "source": [
    "type icname = \n",
    "    | Process of string\n",
    "    | File of string\n",
    "let openic = function \n",
    "    | Process cmd -> Unix.open_process_in cmd\n",
    "    | File filename -> open_in filename\n",
    "let readallic ic = \n",
    "  let buf = ref \"\" in \n",
    "  (try\n",
    "    while true do\n",
    "      let line = input_line ic in\n",
    "      buf := !buf ^ line ^ \"\\n\"\n",
    "    done\n",
    "  with End_of_file ->\n",
    "    close_in ic); !buf"
   ]
  },
  {
   "cell_type": "code",
   "execution_count": 71,
   "metadata": {},
   "outputs": [
    {
     "data": {
      "text/plain": [
       "val svg : string =\n",
       "  \"<svg xmlns=\\\"http://www.w3.org/2000/svg\\\" id=\\\"bB\\\" viewBox=\\\"0 0 45 45\\\"><g fill=\\\"none\\\" fill-rule=\\\"evenodd\\\" stroke=\\\"#000\\\" stroke-linejoin=\\\"round\\\" stroke-linecap=\\\"round\\\" stroke-width=\\\"1.5\\\"><g fill=\\\"#000\\\" stroke=\\\"#000\\\" stroke-linecap=\\\"butt\\\"><path d=\\\"m9 36c3.39-.97 10.11.43 13.5-2 3.39 2.43 10.11 1.03 13.5\"... (* string length 750; truncated *)\n"
      ]
     },
     "execution_count": 71,
     "metadata": {},
     "output_type": "execute_result"
    }
   ],
   "source": [
    "let svg = File \"bBid.svg\" |> openic |> readic "
   ]
  },
  {
   "cell_type": "code",
   "execution_count": 72,
   "metadata": {},
   "outputs": [
    {
     "data": {
      "image/svg+xml": [
       "<svg xmlns=\"http://www.w3.org/2000/svg\" id=\"bB\" viewBox=\"0 0 45 45\"><g fill=\"none\" fill-rule=\"evenodd\" stroke=\"#000\" stroke-linejoin=\"round\" stroke-linecap=\"round\" stroke-width=\"1.5\"><g fill=\"#000\" stroke=\"#000\" stroke-linecap=\"butt\"><path d=\"m9 36c3.39-.97 10.11.43 13.5-2 3.39 2.43 10.11 1.03 13.5 2 0 0 1.65.54 3 2-.68.97-1.65.99-3 .5-3.39-.97-10.11.46-13.5-1-3.39 1.46-10.11.03-13.5 1-1.354.49-2.323.47-3-.5 1.354-1.94 3-2 3-2z\"/><path d=\"m15 32c2.5 2.5 12.5 2.5 15 0 .5-1.5 0-2 0-2 0-2.5-2.5-4-2.5-4 5.5-1.5 6-11.5-5-15.5-11 4-10.5 14-5 15.5 0 0-2.5 1.5-2.5 4 0 0-.5.5 0 2z\"/><path d=\"M25 8A2.5 2.5 0 1 1 20 8 2.5 2.5 0 1 1 25 8z\"/></g><path d=\"m17.5 26h10m-12.5 4h15m-7.5-14.5v5m-2.5-2.5h5\" stroke=\"#ececec\" stroke-linejoin=\"miter\"/></g></svg>\n"
      ]
     },
     "metadata": {},
     "output_type": "display_data"
    },
    {
     "data": {
      "text/plain": [
       "- : Jup.display_id = <abstr>\n"
      ]
     },
     "execution_count": 72,
     "metadata": {},
     "output_type": "execute_result"
    }
   ],
   "source": [
    "svg |> Jup.showsvg"
   ]
  },
  {
   "cell_type": "code",
   "execution_count": 63,
   "metadata": {},
   "outputs": [
    {
     "data": {
      "text/html": [
       "<svg xmlns=\"http://www.w3.org/2000/svg\" viewBox=\"0 0 45 45\"><g fill=\"none\" fill-rule=\"evenodd\" stroke=\"#000\" stroke-linejoin=\"round\" stroke-linecap=\"round\" stroke-width=\"1.5\"><g fill=\"#000\" stroke=\"#000\" stroke-linecap=\"butt\"><path d=\"m9 36c3.39-.97 10.11.43 13.5-2 3.39 2.43 10.11 1.03 13.5 2 0 0 1.65.54 3 2-.68.97-1.65.99-3 .5-3.39-.97-10.11.46-13.5-1-3.39 1.46-10.11.03-13.5 1-1.354.49-2.323.47-3-.5 1.354-1.94 3-2 3-2z\"/><path d=\"m15 32c2.5 2.5 12.5 2.5 15 0 .5-1.5 0-2 0-2 0-2.5-2.5-4-2.5-4 5.5-1.5 6-11.5-5-15.5-11 4-10.5 14-5 15.5 0 0-2.5 1.5-2.5 4 0 0-.5.5 0 2z\"/><path d=\"M25 8A2.5 2.5 0 1 1 20 8 2.5 2.5 0 1 1 25 8z\"/></g><path d=\"m17.5 26h10m-12.5 4h15m-7.5-14.5v5m-2.5-2.5h5\" stroke=\"#ececec\" stroke-linejoin=\"miter\"/></g></svg>\n"
      ]
     },
     "metadata": {},
     "output_type": "display_data"
    },
    {
     "data": {
      "text/plain": [
       "- : Jup.display_id = <abstr>\n"
      ]
     },
     "execution_count": 63,
     "metadata": {},
     "output_type": "execute_result"
    }
   ],
   "source": [
    "svg|> show"
   ]
  },
  {
   "cell_type": "code",
   "execution_count": 66,
   "metadata": {},
   "outputs": [
    {
     "data": {
      "text/html": [
       "\n",
       "<svg width=\"100\" height=\"100\" viewBox=\"0 0 45 45\" version=\"1.1\"\n",
       "     xmlns=\"http://www.w3.org/2000/svg\"><svg xmlns=\"http://www.w3.org/2000/svg\" viewBox=\"0 0 45 45\"><g fill=\"none\" fill-rule=\"evenodd\" stroke=\"#000\" stroke-linejoin=\"round\" stroke-linecap=\"round\" stroke-width=\"1.5\"><g fill=\"#000\" stroke=\"#000\" stroke-linecap=\"butt\"><path d=\"m9 36c3.39-.97 10.11.43 13.5-2 3.39 2.43 10.11 1.03 13.5 2 0 0 1.65.54 3 2-.68.97-1.65.99-3 .5-3.39-.97-10.11.46-13.5-1-3.39 1.46-10.11.03-13.5 1-1.354.49-2.323.47-3-.5 1.354-1.94 3-2 3-2z\"/><path d=\"m15 32c2.5 2.5 12.5 2.5 15 0 .5-1.5 0-2 0-2 0-2.5-2.5-4-2.5-4 5.5-1.5 6-11.5-5-15.5-11 4-10.5 14-5 15.5 0 0-2.5 1.5-2.5 4 0 0-.5.5 0 2z\"/><path d=\"M25 8A2.5 2.5 0 1 1 20 8 2.5 2.5 0 1 1 25 8z\"/></g><path d=\"m17.5 26h10m-12.5 4h15m-7.5-14.5v5m-2.5-2.5h5\" stroke=\"#ececec\" stroke-linejoin=\"miter\"/></g></svg>\n",
       "\n",
       "</svg>\n"
      ]
     },
     "metadata": {},
     "output_type": "display_data"
    },
    {
     "data": {
      "text/plain": [
       "- : Jup.display_id = <abstr>\n"
      ]
     },
     "execution_count": 66,
     "metadata": {},
     "output_type": "execute_result"
    }
   ],
   "source": [
    "{|\n",
    "<svg width=\"100\" height=\"100\" viewBox=\"0 0 45 45\" version=\"1.1\"\n",
    "     xmlns=\"http://www.w3.org/2000/svg\">|}\n",
    "^ svg ^\n",
    "{|\n",
    "</svg>\n",
    "|} |> show"
   ]
  },
  {
   "cell_type": "code",
   "execution_count": 87,
   "metadata": {},
   "outputs": [
    {
     "data": {
      "text/html": [
       "<svg width=\"50%\" viewBox=\"0 0 30 10\">\n",
       "  <circle id=\"myCircle\" cx=\"5\" cy=\"5\" r=\"4\"/>\n",
       "  <use href=\"#myCircle\" x=\"10\" fill=\"blue\"/>\n",
       "  <use href=\"#myCircle\" x=\"20\" fill=\"white\" stroke=\"blue\"/>\n",
       "  <use href=\"#bB\" x=50>\n",
       "</svg>"
      ]
     },
     "metadata": {},
     "output_type": "display_data"
    },
    {
     "data": {
      "text/plain": [
       "- : Jup.display_id = <abstr>\n"
      ]
     },
     "execution_count": 87,
     "metadata": {},
     "output_type": "execute_result"
    }
   ],
   "source": [
    "{|<svg width=\"50%\" viewBox=\"0 0 30 10\">\n",
    "  <circle id=\"myCircle\" cx=\"5\" cy=\"5\" r=\"4\"/>\n",
    "  <use href=\"#myCircle\" x=\"10\" fill=\"blue\"/>\n",
    "  <use href=\"#myCircle\" x=\"20\" fill=\"white\" stroke=\"blue\"/>\n",
    "  <use href=\"#bB\" x=50>\n",
    "</svg>|} |> show"
   ]
  },
  {
   "cell_type": "code",
   "execution_count": 97,
   "metadata": {},
   "outputs": [
    {
     "data": {
      "text/html": [
       "\n",
       "<svg viewBox=\"0 0 40 40\">\n",
       "<use href=\"pieces/bB.svg\"/>\n",
       "</svg>\n"
      ]
     },
     "metadata": {},
     "output_type": "display_data"
    },
    {
     "data": {
      "text/plain": [
       "- : Jup.display_id = <abstr>\n"
      ]
     },
     "execution_count": 97,
     "metadata": {},
     "output_type": "execute_result"
    }
   ],
   "source": [
    "{|\n",
    "<svg viewBox=\"0 0 40 40\">\n",
    "<use href=\"pieces/bB.svg\"/>\n",
    "</svg>\n",
    "|} |> show"
   ]
  },
  {
   "cell_type": "code",
   "execution_count": 96,
   "metadata": {},
   "outputs": [
    {
     "data": {
      "text/html": [
       "\n",
       "<div style=\"background:#ffe7e8;  width:40%;  border: 2px solid #e66465;\">\n",
       "    <p style=\"margin: 15px; line-height: 1.5; text-align: center; color:black;\">\n",
       "        Well, I am the slime from your video<br>\n",
       "        Oozin' along on your livin' room floor.</p>\n",
       "</div>\n"
      ]
     },
     "metadata": {},
     "output_type": "display_data"
    },
    {
     "data": {
      "text/plain": [
       "- : Jup.display_id = <abstr>\n"
      ]
     },
     "execution_count": 96,
     "metadata": {},
     "output_type": "execute_result"
    }
   ],
   "source": [
    "{|\n",
    "<div style=\"background:#ffe7e8;  width:40%;  border: 2px solid #e66465;\">\n",
    "    <p style=\"margin: 15px; line-height: 1.5; text-align: center; color:black;\">\n",
    "        Well, I am the slime from your video<br>\n",
    "        Oozin' along on your livin' room floor.</p>\n",
    "</div>\n",
    "|} |> show"
   ]
  },
  {
   "cell_type": "code",
   "execution_count": 47,
   "metadata": {},
   "outputs": [
    {
     "data": {
      "text/plain": [
       "val concat : string list -> string = <fun>\n"
      ]
     },
     "execution_count": 47,
     "metadata": {},
     "output_type": "execute_result"
    }
   ],
   "source": []
  },
  {
   "cell_type": "code",
   "execution_count": 60,
   "metadata": {},
   "outputs": [
    {
     "data": {
      "text/plain": [
       "val id : 'a -> 'a = <fun>\n"
      ]
     },
     "execution_count": 60,
     "metadata": {},
     "output_type": "execute_result"
    },
    {
     "data": {
      "text/plain": [
       "val mapconcat : ?f:(string -> string) -> string list -> string = <fun>\n"
      ]
     },
     "execution_count": 60,
     "metadata": {},
     "output_type": "execute_result"
    },
    {
     "data": {
      "text/plain": [
       "val td : string -> string = <fun>\n"
      ]
     },
     "execution_count": 60,
     "metadata": {},
     "output_type": "execute_result"
    },
    {
     "data": {
      "text/plain": [
       "val th : string -> string = <fun>\n"
      ]
     },
     "execution_count": 60,
     "metadata": {},
     "output_type": "execute_result"
    },
    {
     "data": {
      "text/plain": [
       "val tr : string -> string = <fun>\n"
      ]
     },
     "execution_count": 60,
     "metadata": {},
     "output_type": "execute_result"
    },
    {
     "data": {
      "text/plain": [
       "val table : string -> string = <fun>\n"
      ]
     },
     "execution_count": 60,
     "metadata": {},
     "output_type": "execute_result"
    },
    {
     "data": {
      "text/plain": [
       "val ltable : ?hlist:string list -> string list list -> string = <fun>\n"
      ]
     },
     "execution_count": 60,
     "metadata": {},
     "output_type": "execute_result"
    }
   ],
   "source": []
  },
  {
   "cell_type": "code",
   "execution_count": 57,
   "metadata": {},
   "outputs": [
    {
     "data": {
      "text/plain": [
       "val f : string list list -> string list = <fun>\n"
      ]
     },
     "execution_count": 57,
     "metadata": {},
     "output_type": "execute_result"
    }
   ],
   "source": [
    "let f = List.map (mapconcat ~f:td)"
   ]
  },
  {
   "cell_type": "code",
   "execution_count": 59,
   "metadata": {},
   "outputs": [
    {
     "data": {
      "text/html": [
       "<table>\n",
       "<tr><td>A</td><td>B</td><td>C</td></tr>\n",
       "<tr><td>a</td><td>b</td><td>c</td></tr>\n",
       "\n",
       "</table>\n"
      ]
     },
     "metadata": {},
     "output_type": "display_data"
    },
    {
     "data": {
      "text/plain": [
       "- : Jup.display_id = <abstr>\n"
      ]
     },
     "execution_count": 59,
     "metadata": {},
     "output_type": "execute_result"
    },
    {
     "data": {
      "text/html": [
       "<table>\n",
       "<tr><th>H1</th><th>H2</th><th>H3</th></tr>\n",
       "\n",
       "<tr><td>A</td><td>B</td><td>C</td></tr>\n",
       "<tr><td>\\(x_1\\)</td><td>\\(y_1\\)</td><td>\\(z_1\\)</td></tr>\n",
       "<tr><td>a</td><td>b</td><td>c</td></tr>\n",
       "\n",
       "</table>\n"
      ]
     },
     "metadata": {},
     "output_type": "display_data"
    },
    {
     "data": {
      "text/plain": [
       "- : Jup.display_id = <abstr>\n"
      ]
     },
     "execution_count": 59,
     "metadata": {},
     "output_type": "execute_result"
    }
   ],
   "source": [
    "let _ = ltable  [\n",
    "[\"A\"; \"B\"; \"C\"];\n",
    "[\"a\"; \"b\"; \"c\"]\n",
    "] \n",
    "|> show\n",
    "\n",
    "let _ = ltable \n",
    "~hlist:[\"H1\";\"H2\";\"H3\"] [\n",
    "[\"A\"; \"B\"; \"C\"];\n",
    "[\"\\\\(x_1\\\\)\"; \"\\\\(y_1\\\\)\"; \"\\\\(z_1\\\\)\"];\n",
    "[\"a\"; \"b\"; \"c\"]\n",
    "] \n",
    "|> show"
   ]
  },
  {
   "cell_type": "code",
   "execution_count": 130,
   "metadata": {},
   "outputs": [
    {
     "data": {
      "text/plain": [
       "val generate_truthvalues : int -> bool list list = <fun>\n"
      ]
     },
     "execution_count": 130,
     "metadata": {},
     "output_type": "execute_result"
    }
   ],
   "source": [
    "let generate_truthvalues n = \n",
    "    let rec aux ll n = \n",
    "        let ll = \n",
    "            List.fold_left (fun ll l -> (true :: l) :: (false :: l) :: ll) [] ll \n",
    "        in if n > 1 then aux ll (n-1) else ll\n",
    "    in aux [[true]; [false]] (n-1)"
   ]
  },
  {
   "cell_type": "code",
   "execution_count": 131,
   "metadata": {},
   "outputs": [
    {
     "data": {
      "text/plain": [
       "- : bool list list =\n",
       "[[true; false; true]; [false; false; true]; [true; true; true];\n",
       " [false; true; true]; [true; false; false]; [false; false; false];\n",
       " [true; true; false]; [false; true; false]]\n"
      ]
     },
     "execution_count": 131,
     "metadata": {},
     "output_type": "execute_result"
    }
   ],
   "source": [
    "let _ = generate_truthvalues 3 "
   ]
  },
  {
   "cell_type": "code",
   "execution_count": 135,
   "metadata": {},
   "outputs": [
    {
     "data": {
      "text/plain": [
       "val gen : int -> bool list list = <fun>\n"
      ]
     },
     "execution_count": 135,
     "metadata": {},
     "output_type": "execute_result"
    }
   ],
   "source": []
  },
  {
   "cell_type": "code",
   "execution_count": 136,
   "metadata": {},
   "outputs": [
    {
     "data": {
      "text/plain": [
       "- : bool list list =\n",
       "[[true; true; true]; [true; true; false]; [true; false; true];\n",
       " [true; false; false]; [false; true; true]; [false; true; false];\n",
       " [false; false; true]; [false; false; false]]\n"
      ]
     },
     "execution_count": 136,
     "metadata": {},
     "output_type": "execute_result"
    }
   ],
   "source": [
    "gen 3"
   ]
  },
  {
   "cell_type": "markdown",
   "metadata": {},
   "source": []
  },
  {
   "cell_type": "code",
   "execution_count": 152,
   "metadata": {},
   "outputs": [
    {
     "data": {
      "text/plain": [
       "val make1arg : ('a -> 'b) -> 'a list -> 'b = <fun>\n"
      ]
     },
     "execution_count": 152,
     "metadata": {},
     "output_type": "execute_result"
    },
    {
     "data": {
      "text/plain": [
       "val make2arg : ('a -> 'a -> 'b) -> 'a list -> 'b = <fun>\n"
      ]
     },
     "execution_count": 152,
     "metadata": {},
     "output_type": "execute_result"
    },
    {
     "data": {
      "text/plain": [
       "val make3arg : ('a -> 'a -> 'a -> 'b) -> 'a list -> 'b = <fun>\n"
      ]
     },
     "execution_count": 152,
     "metadata": {},
     "output_type": "execute_result"
    }
   ],
   "source": [
    "\n"
   ]
  },
  {
   "cell_type": "code",
   "execution_count": 171,
   "metadata": {},
   "outputs": [
    {
     "data": {
      "text/plain": [
       "val flist2 : (bool -> bool -> bool) list = [<fun>; <fun>]\n"
      ]
     },
     "execution_count": 171,
     "metadata": {},
     "output_type": "execute_result"
    }
   ],
   "source": []
  },
  {
   "cell_type": "code",
   "execution_count": 159,
   "metadata": {},
   "outputs": [
    {
     "data": {
      "text/plain": [
       "val make1arg : ('a -> 'b) -> 'a list -> 'b = <fun>\n"
      ]
     },
     "execution_count": 159,
     "metadata": {},
     "output_type": "execute_result"
    },
    {
     "data": {
      "text/plain": [
       "val make2arg : ('a -> 'a -> 'b) -> 'a list -> 'b = <fun>\n"
      ]
     },
     "execution_count": 159,
     "metadata": {},
     "output_type": "execute_result"
    },
    {
     "data": {
      "text/plain": [
       "val make3arg : ('a -> 'a -> 'a -> 'b) -> 'a list -> 'b = <fun>\n"
      ]
     },
     "execution_count": 159,
     "metadata": {},
     "output_type": "execute_result"
    },
    {
     "data": {
      "text/plain": [
       "val make4arg : ('a -> 'a -> 'a -> 'a -> 'b) -> 'a list -> 'b = <fun>\n"
      ]
     },
     "execution_count": 159,
     "metadata": {},
     "output_type": "execute_result"
    }
   ],
   "source": []
  },
  {
   "cell_type": "code",
   "execution_count": 196,
   "metadata": {},
   "outputs": [
    {
     "data": {
      "text/plain": [
       "val prb : bool list -> string list = <fun>\n"
      ]
     },
     "execution_count": 196,
     "metadata": {},
     "output_type": "execute_result"
    },
    {
     "data": {
      "text/plain": [
       "val truthtable2 : ?hlist:string list -> (bool -> bool -> bool) list -> string =\n",
       "  <fun>\n"
      ]
     },
     "execution_count": 196,
     "metadata": {},
     "output_type": "execute_result"
    }
   ],
   "source": []
  },
  {
   "cell_type": "code",
   "execution_count": 194,
   "metadata": {},
   "outputs": [],
   "source": [
    "let flist2 = [ (fun p q -> p || not q); (fun p q -> p || q) ]\n",
    "let hlist2 =[\"$p$\"; \"$q$\"; \"$p\\\\wedge \\\\overline{q}$\";  \"$p\\\\vee q$\"]"
   ]
  },
  {
   "cell_type": "code",
   "execution_count": 197,
   "metadata": {},
   "outputs": [
    {
     "data": {
      "text/html": [
       "<table>\n",
       "<tr><th>&nbsp; &nbsp$p$</th><th>&nbsp; &nbsp$q$</th><th>&nbsp; &nbsp$p\\wedge \\overline{q}$</th><th>&nbsp; &nbsp$p\\vee q$</th></tr>\n",
       "\n",
       "<tr><td>$\\mathsf{1}$</td><td>$\\mathsf{1}$</td><td>$\\mathsf{1}$</td><td>$\\mathsf{1}$</td></tr>\n",
       "<tr><td>$\\mathsf{1}$</td><td>$\\mathsf{0}$</td><td>$\\mathsf{1}$</td><td>$\\mathsf{1}$</td></tr>\n",
       "<tr><td>$\\mathsf{0}$</td><td>$\\mathsf{1}$</td><td>$\\mathsf{0}$</td><td>$\\mathsf{1}$</td></tr>\n",
       "<tr><td>$\\mathsf{0}$</td><td>$\\mathsf{0}$</td><td>$\\mathsf{1}$</td><td>$\\mathsf{0}$</td></tr>\n",
       "\n",
       "</table>\n"
      ]
     },
     "metadata": {},
     "output_type": "display_data"
    },
    {
     "data": {
      "text/plain": [
       "- : Jup.display_id = <abstr>\n"
      ]
     },
     "execution_count": 197,
     "metadata": {},
     "output_type": "execute_result"
    }
   ],
   "source": [
    "let _ = truthtable2 ~hlist:hlist2 flist2 |> show"
   ]
  },
  {
   "cell_type": "code",
   "execution_count": 199,
   "metadata": {},
   "outputs": [
    {
     "ename": "error",
     "evalue": "compile_error",
     "output_type": "error",
     "traceback": [
      "\u001b[32mFile \"[199]\", line 1, characters 21-25:\n\u001b[31mError: This expression has type int but an expression was expected of type\n         bool\n\u001b[36m   1: \u001b[30mPrintf.printf \"%b\\n\" \u001b[4m0b01\u001b[0m\u001b[30m + 0b01 + 0b00\u001b[0m\n"
     ]
    }
   ],
   "source": [
    "Printf.printf \"%b\\n\" 0b01 + 0b01 + 0b00"
   ]
  },
  {
   "cell_type": "code",
   "execution_count": null,
   "metadata": {},
   "outputs": [],
   "source": []
  }
 ],
 "metadata": {
  "kernelspec": {
   "display_name": "OCaml 4.07.1",
   "language": "OCaml",
   "name": "ocaml-jupyter"
  },
  "language_info": {
   "codemirror_mode": "text/x-ocaml",
   "file_extension": ".ml",
   "mimetype": "text/x-ocaml",
   "name": "OCaml",
   "nbconverter_exporter": null,
   "pygments_lexer": "OCaml",
   "version": "4.07.1"
  }
 },
 "nbformat": 4,
 "nbformat_minor": 2
}
