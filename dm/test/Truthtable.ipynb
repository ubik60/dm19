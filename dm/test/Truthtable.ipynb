{
 "cells": [
  {
   "cell_type": "code",
   "execution_count": 116,
   "metadata": {},
   "outputs": [
    {
     "data": {
      "text/plain": [
       "module Jup : sig type display_id val show : string -> display_id end\n"
      ]
     },
     "execution_count": 116,
     "metadata": {},
     "output_type": "execute_result"
    },
    {
     "data": {
      "text/plain": [
       "module Htm :\n",
       "  sig val ltable : ?hlist:string list -> string list list -> string end\n"
      ]
     },
     "execution_count": 116,
     "metadata": {},
     "output_type": "execute_result"
    }
   ],
   "source": [
    "#require \"jupyter.notebook\"\n",
    "#require \"tyxml\"\n",
    "\n",
    "module Jup : sig \n",
    "    type display_id\n",
    "    val show : string -> display_id\n",
    "end\n",
    "= struct \n",
    "include Jupyter_notebook\n",
    "let show = display \"text/html\"\n",
    "let show_svg = display \"image/svg+xml\"\n",
    "end\n",
    "\n",
    "module Htm : sig  \n",
    "    val ltable:  ?hlist:string list -> (string list list) -> string\n",
    "end \n",
    "= struct\n",
    "let id = fun x -> x\n",
    "let mapconcat ?(f=id) list = List.fold_left (fun s d -> s ^ (f d)) \"\" list\n",
    "\n",
    "let td text = \"<td>\" ^ text ^ \"</td>\"\n",
    "let th ?(style=\"width:5ex;\") text = \"<th style=\\\"\"^style^\"\\\">\" ^ text ^ \"</th>\"\n",
    "let tr text = \"<tr>\" ^ text ^ \"</tr>\\n\"\n",
    "let table text = \"<table>\\n\" ^ text ^ \"\\n</table>\\n\"\n",
    "(** [td text], [tr text], [th text] och [table text] kapsalr in [text] i motsvarande htmlelement *)\n",
    "\n",
    "let ltable ?(hlist=[]) ll = \n",
    "    let header = hlist |> mapconcat ~f:(fun s -> th (\"&nbsp;\" ^ s ^ \"&nbsp\")) in\n",
    "    let body = ll |> List.map (mapconcat ~f:td) |> mapconcat ~f:tr\n",
    "    in \n",
    "      (if header <> \"\" then (tr header) ^ \"\\n\" else \"\") ^ body |> table\n",
    "end\n",
    "\n",
    "open Jup\n",
    "open Htm"
   ]
  },
  {
   "cell_type": "code",
   "execution_count": null,
   "metadata": {},
   "outputs": [],
   "source": []
  },
  {
   "cell_type": "code",
   "execution_count": 117,
   "metadata": {},
   "outputs": [
    {
     "data": {
      "text/plain": [
       "module Truth :\n",
       "  sig\n",
       "    type 'a boolarity =\n",
       "        B1 : bool boolarity\n",
       "      | B2 : (bool * bool) boolarity\n",
       "      | B3 : (bool * bool * bool) boolarity\n",
       "      | B4 : (bool * bool * bool * bool) boolarity\n",
       "      | B5 : (bool * bool * bool * bool * bool) boolarity\n",
       "      | B6 : (bool * bool * bool * bool * bool * bool) boolarity\n",
       "    val table :\n",
       "      ?hlist:string list -> 'a boolarity -> ('a -> bool) list -> string\n",
       "  end\n"
      ]
     },
     "execution_count": 117,
     "metadata": {},
     "output_type": "execute_result"
    }
   ],
   "source": [
    "module Truth : sig\n",
    "     type 'a boolarity =\n",
    "        B1 : bool boolarity\n",
    "      | B2 : (bool * bool) boolarity\n",
    "      | B3 : (bool * bool * bool) boolarity\n",
    "      | B4 : (bool * bool * bool * bool) boolarity\n",
    "      | B5 : (bool * bool * bool * bool * bool) boolarity\n",
    "      | B6 : (bool * bool * bool * bool * bool * bool) boolarity\n",
    "    val table :?hlist:string list -> 'a boolarity -> ('a -> bool) list -> string\n",
    "end\n",
    "= struct\n",
    "(** En typ för att hantera booleska funktioner med olika aritet. *)\n",
    "type 'a boolarity =\n",
    "| B1 : bool boolarity\n",
    "| B2 : (bool*bool) boolarity\n",
    "| B3 : (bool*bool*bool) boolarity\n",
    "| B4 : (bool*bool*bool*bool) boolarity\n",
    "| B5 : (bool*bool*bool*bool*bool) boolarity\n",
    "| B6 : (bool*bool*bool*bool*bool*bool) boolarity\n",
    "\n",
    "(** [arity tag] anger antalet komponenter i tupeln som anges av [tag] *)\n",
    "let arity: type a. a boolarity -> int = function \n",
    "B1 -> 1 | B2 -> 2 | B3 -> 3 | B4 -> 4 | B5 -> 5 | _ -> failwith \"Not implemented\"\n",
    "\n",
    "(** [convert_from_list tag lst] gör en tupel av elementen i listan [lst] *)\n",
    "let convert_from_list: type a. (a boolarity) -> (bool list) -> a = function\n",
    "    | B1 -> (function [p] -> p | _ -> failwith \"Bad type\")\n",
    "    | B2 -> (function [p;q] -> (p,q) | _ -> failwith \"Bad type\")\n",
    "    | B3 -> (function [p;q;r] -> (p,q,r) | _ -> failwith \"Bad type\")\n",
    "    | B4 -> (function [p;q;r;s] -> (p,q,r,s) | _ -> failwith \"Bad type\")\n",
    "    | B5 -> (function [p;q;r;s;t] -> (p,q,r,s,t) | _ -> failwith \"Bad type\")\n",
    "    | _ -> failwith \"Not implemented\"\n",
    "\n",
    "(** [convert_to_list tag tupel] gör en lista av elementen i tupeln [tupel] *)\n",
    "let convert_to_list: type a. (a boolarity) -> a -> (bool list) = function\n",
    "    | B1 -> fun p -> [p]\n",
    "    | B2 -> fun (p,q) -> [p; q]\n",
    "    | B3 -> fun (p,q,r) -> [p;q;r]\n",
    "    | B4 -> fun (p,q,r,s) -> [p;q;r;s]\n",
    "    | B5 -> fun (p,q,r,s,t) -> [p;q;r;s;t]\n",
    "    | _ -> failwith \"Not implemented\"\n",
    "\n",
    "(** [gen n] skapar en lista av alla $2^n$ bool-listor av längd [n] *)\n",
    "let rec gen n = \n",
    "    if n <= 1 then \n",
    "        [ [true]; [false] ] \n",
    "    else let ll = gen (n-1) in \n",
    "          List.map (fun t -> List.map (fun lst -> (t :: lst)) ll) [true; false] |> List.concat\n",
    "\n",
    "(** [truthtable ~hlist tag flist] skapar en sanningstabell där de sista kolonnerna ger funktionerna i [flist]. \n",
    "    Alla funktioner i [flist] måste ha aritet enligt [tag] *)\n",
    "let table : type a. ?hlist:(string list) ->  (a boolarity) -> ((a->bool) list) -> string = \n",
    "   fun ?(hlist=[]) tag flist ->  \n",
    "       gen (arity tag) |> List.map (convert_from_list tag)\n",
    "       |> List.map (fun a -> (convert_to_list tag a) @ (List.map (fun f -> f a) flist)) \n",
    "       |> List.map (List.map (fun b -> if b then \"1\" else \"0\")) \n",
    "       |> Htm.ltable ~hlist \n",
    "end"
   ]
  },
  {
   "cell_type": "markdown",
   "metadata": {},
   "source": [
    "## Utskrift av sanningstabeller \n",
    "\n",
    "Här är ett exempel på användningen av ```Truth.table```. Anropet är \n",
    "\n",
    "```{ocaml}\n",
    "    Truth.table BX [f1; ...] ~hlist:[\"p\"; \"q\"; ...]\n",
    "```\n",
    "\n",
    "där ```BX``` anger *ariteten* hos de booleska funktionerna i listan ```[f1; ...]```. \n",
    "Det valfria  argumentet ```~hlist:[\"p\"; ....]``` är en lista av kolumnhuvuden för tabellen."
   ]
  },
  {
   "cell_type": "markdown",
   "metadata": {},
   "source": [
    "Två booleska funktioner med aritet 2. "
   ]
  },
  {
   "cell_type": "code",
   "execution_count": 119,
   "metadata": {},
   "outputs": [
    {
     "data": {
      "text/plain": [
       "val f1 : bool * bool -> bool = <fun>\n"
      ]
     },
     "execution_count": 119,
     "metadata": {},
     "output_type": "execute_result"
    },
    {
     "data": {
      "text/plain": [
       "val f2 : bool * bool -> bool = <fun>\n"
      ]
     },
     "execution_count": 119,
     "metadata": {},
     "output_type": "execute_result"
    }
   ],
   "source": [
    "let f1 (p,q) = p && q\n",
    "let f2 (p,q) = p || q"
   ]
  },
  {
   "cell_type": "markdown",
   "metadata": {},
   "source": [
    "Motsvarande sanningstabell"
   ]
  },
  {
   "cell_type": "code",
   "execution_count": null,
   "metadata": {},
   "outputs": [],
   "source": [
    "let _ = Truth.table  B2 [f1; f2] ~hlist:[\"$p$\";\"$q$\";\"$p \\\\wedge q$\"; \"$p\\\\vee q$\"]  |> show"
   ]
  },
  {
   "cell_type": "markdown",
   "metadata": {},
   "source": [
    "Exempel med aritet 4. "
   ]
  },
  {
   "cell_type": "code",
   "execution_count": 123,
   "metadata": {},
   "outputs": [
    {
     "data": {
      "text/plain": [
       "val g1 : bool * bool * bool * bool -> bool = <fun>\n"
      ]
     },
     "execution_count": 123,
     "metadata": {},
     "output_type": "execute_result"
    },
    {
     "data": {
      "text/plain": [
       "val g2 : bool * bool * bool * 'a -> bool = <fun>\n"
      ]
     },
     "execution_count": 123,
     "metadata": {},
     "output_type": "execute_result"
    }
   ],
   "source": [
    "let g1 (p,q,r,s) = p && (not q) || (not r) || s\n",
    "let g2 (p,q,r,s) = (p || q) && r"
   ]
  },
  {
   "cell_type": "code",
   "execution_count": null,
   "metadata": {},
   "outputs": [],
   "source": [
    "let _ = Truth.table B4 [ g1; g2 ] ~hlist:[\"$p$\";\"$q$\";\"$r$\"; \"$s$\"; \"$g_1$\"; \"$g_2$\"] |> show"
   ]
  },
  {
   "cell_type": "code",
   "execution_count": null,
   "metadata": {},
   "outputs": [],
   "source": []
  },
  {
   "cell_type": "code",
   "execution_count": null,
   "metadata": {},
   "outputs": [],
   "source": []
  }
 ],
 "metadata": {
  "kernelspec": {
   "display_name": "OCaml 4.07.1",
   "language": "OCaml",
   "name": "ocaml-jupyter"
  },
  "language_info": {
   "codemirror_mode": "text/x-ocaml",
   "file_extension": ".ml",
   "mimetype": "text/x-ocaml",
   "name": "OCaml",
   "nbconverter_exporter": null,
   "pygments_lexer": "OCaml",
   "version": "4.07.1"
  }
 },
 "nbformat": 4,
 "nbformat_minor": 2
}
