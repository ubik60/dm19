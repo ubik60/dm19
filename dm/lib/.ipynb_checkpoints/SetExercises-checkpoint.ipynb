{
 "cells": [
  {
   "cell_type": "markdown",
   "metadata": {},
   "source": [
    "## En typsignatur för en mängd typ \n",
    "\n",
    "\n",
    "  I *OCAML* finns en modul **Set** som arbetar med mängder\n",
    "  och de vanligaste mängdoperationerna och exporterar ungefär\n",
    "  följande signatur. Se \n",
    "  [OCamls standardbibliotek](https://caml.inria.fr/pub/docs/manual-ocaml/libref/Set.Make.html \"Set.Make signatur\")\n"
   ]
  },
  {
   "cell_type": "code",
   "execution_count": null,
   "metadata": {
    "scrolled": true
   },
   "outputs": [],
   "source": []
  },
  {
   "cell_type": "code",
   "execution_count": 12,
   "metadata": {},
   "outputs": [
    {
     "data": {
      "text/plain": [
       "module IntKey : sig type t = int val compare : 'a -> 'a -> int end\n"
      ]
     },
     "execution_count": 12,
     "metadata": {},
     "output_type": "execute_result"
    },
    {
     "data": {
      "text/plain": [
       "module S :\n",
       "  sig\n",
       "    type elt = int\n",
       "    type t\n",
       "    val empty : t\n",
       "    val is_empty : t -> bool\n",
       "    val mem : elt -> t -> bool\n",
       "    val add : elt -> t -> t\n",
       "    val singleton : elt -> t\n",
       "    val remove : elt -> t -> t\n",
       "    val union : t -> t -> t\n",
       "    val inter : t -> t -> t\n",
       "    val diff : t -> t -> t\n",
       "    val compare : t -> t -> int\n",
       "    val equal : t -> t -> bool\n",
       "    val subset : t -> t -> bool\n",
       "    val iter : (elt -> unit) -> t -> unit\n",
       "    val map : (elt -> elt) -> t -> t\n",
       "    val fold : (elt -> 'a -> 'a) -> t -> 'a -> 'a\n",
       "    val for_all : (elt -> bool) -> t -> bool\n",
       "    val exists : (elt -> bool) -> t -> bool\n",
       "    val filter : (elt -> bool) -> t -> t\n",
       "    val partition : (elt -> bool) -> t -> t * t\n",
       "    val cardinal : t -> int\n",
       "    val elements : t -> elt list\n",
       "    val min_elt : t -> elt\n",
       "    val min_elt_opt : t -> elt option\n",
       "    val max_elt : t -> elt\n",
       "    val max_elt_opt : t -> elt option\n",
       "    val choose : t -> elt\n",
       "    val choose_opt : t -> elt option\n",
       "    val split : elt -> t -> t * bool * t\n",
       "    val find : elt -> t -> elt\n",
       "    val find_opt : elt -> t -> elt option\n",
       "    val find_first : (elt -> bool) -> t -> elt\n",
       "    val find_first_opt : (elt -> bool) -> t -> elt option\n",
       "    val find_last : (elt -> bool) -> t -> elt\n",
       "    val find_last_opt : (elt -> bool) -> t -> elt option\n",
       "    val of_list : elt list -> t\n",
       "    val to_seq_from : elt -> t -> elt Seq.t\n",
       "    val to_seq : t -> elt Seq.t\n",
       "    val add_seq : elt Seq.t -> t -> t\n",
       "    val of_seq : elt Seq.t -> t\n",
       "  end\n"
      ]
     },
     "execution_count": 12,
     "metadata": {},
     "output_type": "execute_result"
    },
    {
     "data": {
      "text/plain": [
       "val pp_t :\n",
       "  (Format.formatter -> S.elt -> unit) -> Format.formatter -> S.t -> unit =\n",
       "  <fun>\n"
      ]
     },
     "execution_count": 12,
     "metadata": {},
     "output_type": "execute_result"
    },
    {
     "data": {
      "text/plain": [
       "val pp : Format.formatter -> S.t -> unit = <fun>\n"
      ]
     },
     "execution_count": 12,
     "metadata": {},
     "output_type": "execute_result"
    }
   ],
   "source": [
    "module IntKey = struct type t = int let compare = compare end\n",
    "module S : Set.S with type elt = int \n",
    "    = Set.Make(IntKey) \n",
    "\n",
    "let pp_t pp_elt fmt set = let open Format in\n",
    "      fprintf fmt \"@[<1>{\";\n",
    "      ignore (S.fold (fun elt is_fst ->\n",
    "                        if is_fst then pp_elt fmt elt\n",
    "                        else fprintf fmt \",@;%a\" pp_elt elt;\n",
    "                        false) set true);\n",
    "      fprintf fmt \"}@]\"\n",
    "      \n",
    "let pp = pp_t Format.pp_print_int;;"
   ]
  },
  {
   "cell_type": "code",
   "execution_count": 13,
   "metadata": {},
   "outputs": [],
   "source": [
    "#install_printer pp;;"
   ]
  },
  {
   "cell_type": "code",
   "execution_count": 14,
   "metadata": {},
   "outputs": [
    {
     "data": {
      "text/plain": [
       "val setU : S.t = {0, 1, 2, 3, 4, 5, 6, 7, 8, 9, 10, 11}\n"
      ]
     },
     "execution_count": 14,
     "metadata": {},
     "output_type": "execute_result"
    },
    {
     "data": {
      "text/plain": [
       "val compl : S.t -> S.t = <fun>\n"
      ]
     },
     "execution_count": 14,
     "metadata": {},
     "output_type": "execute_result"
    },
    {
     "data": {
      "text/plain": [
       "val setA : S.t = {0, 1, 2, 3, 4, 5}\n"
      ]
     },
     "execution_count": 14,
     "metadata": {},
     "output_type": "execute_result"
    },
    {
     "data": {
      "text/plain": [
       "val setB : S.t = {5, 6, 7}\n"
      ]
     },
     "execution_count": 14,
     "metadata": {},
     "output_type": "execute_result"
    },
    {
     "data": {
      "text/plain": [
       "val setC : S.t = {3, 5, 8}\n"
      ]
     },
     "execution_count": 14,
     "metadata": {},
     "output_type": "execute_result"
    }
   ],
   "source": [
    "(* grundmängd *)\n",
    "let setU = S.of_list([0; 1; 2; 3; 4; 5; 6; 7; 8; 9; 10; 11])\n",
    "(* Komplement finns inte med *)\n",
    "let compl s = S.diff setU s\n",
    "let setA = S.of_list([0; 1; 2; 3; 4; 5])\n",
    "let setB = S.of_list([5; 6; 7])\n",
    "let setC = S.of_list([3; 5; 8])"
   ]
  },
  {
   "cell_type": "code",
   "execution_count": 15,
   "metadata": {},
   "outputs": [
    {
     "data": {
      "text/plain": [
       "val addrange : S.elt -> S.elt -> S.t -> S.t = <fun>\n"
      ]
     },
     "execution_count": 15,
     "metadata": {},
     "output_type": "execute_result"
    }
   ],
   "source": [
    "let rec addrange n m t = \n",
    "  if n < m then S.add n t |> addrange (n+1) m else t"
   ]
  },
  {
   "cell_type": "code",
   "execution_count": 16,
   "metadata": {},
   "outputs": [
    {
     "data": {
      "text/plain": [
       "- : S.t =\n",
       "{1, 2, 3, 4, 5, 6, 7, 8, 9, 10, 11, 12, 13, 14, 15, 16, 17, 18, 19, 20, 21,\n",
       " 22, 23, 24, 25, 26, 27, 28, 29, 30, 31, 32, 33, 34, 35, 36, 37, 38, 39, 40,\n",
       " 41, 42, 43, 44, 45, 46, 47, 48, 49, 50, 51, 52, 53, 54, 55, 56, 57, 58, 59,\n",
       " 60, 61, 62, 63, 64, 65, 66, 67, 68, 69, 70, 71, 72, 73, 74, 75, 76, 77, 78,\n",
       " 79, 80, 81, 82, 83, 84, 85, 86, 87, 88, 89, 90, 91, 92, 93, 94, 95, 96, 97,\n",
       " 98, 99}\n"
      ]
     },
     "execution_count": 16,
     "metadata": {},
     "output_type": "execute_result"
    }
   ],
   "source": [
    "let _ = addrange 1 100 S.empty"
   ]
  },
  {
   "cell_type": "markdown",
   "metadata": {},
   "source": [
    "**Uppgift** Gör en effektivare version av ```factor``` genom att upprätthålla en mängd av primtal. Skall returnera en ```Map``` där nycklarna är primtal $p$ och värdena är multipliciteterna $\\alpha(p)$.\n",
    "\n",
    "**Uppgift** Implementera en rutin som ger en "
   ]
  },
  {
   "cell_type": "code",
   "execution_count": 18,
   "metadata": {},
   "outputs": [
    {
     "ename": "error",
     "evalue": "compile_error",
     "output_type": "error",
     "traceback": [
      "\u001b[32mFile \"[18]\", line 4, characters 18-33:\n\u001b[31mError: Unbound module type Set.OrderedType\n\u001b[36m   3: \u001b[30mmodule Set = struct\n\u001b[36m   4: \u001b[30m  module Make(Ord:\u001b[4mSet.OrderedType\u001b[0m\u001b[30m) : sig\n\u001b[36m   5: \u001b[30m    include Set.S with type elt = Ord.t\u001b[0m\n"
     ]
    }
   ],
   "source": [
    "open Format\n",
    "(* print.ml (9) *)\n",
    "module Set = struct\n",
    "  module Make(Ord:Set.OrderedType) : sig\n",
    "    include Set.S with type elt = Ord.t\n",
    "    val pp_t : (Format.formatter -> elt -> unit) -> Format.formatter -> t -> unit\n",
    "  end = struct\n",
    "    module S = Set.Make(Ord)\n",
    "    include S\n",
    "    let pp_t pp_elt fmt set =\n",
    "      fprintf fmt \"@[<1>{\";\n",
    "      ignore (S.fold (fun elt is_fst ->\n",
    "                        if is_fst then pp_elt fmt elt\n",
    "                        else fprintf fmt \",@;%a\" pp_elt elt;\n",
    "                        false) set true);\n",
    "      fprintf fmt \"}@]\"\n",
    "  end\n",
    "end\n",
    "\n",
    "module Map = struct\n",
    "  module Make(Ord:Map.OrderedType) : sig\n",
    "    include Map.S with type key = Ord.t\n",
    "    val pp_t :\n",
    "      (Format.formatter -> key -> unit) -> (Format.formatter -> 'a -> unit) ->\n",
    "      Format.formatter -> 'a t -> unit\n",
    "  end = struct\n",
    "    module M = Map.Make(Ord)\n",
    "    include M\n",
    "    let pp_t pp_key pp_a fmt map =\n",
    "      fprintf fmt \"@[<1>{\";\n",
    "      let pp_each key fmt v = fprintf fmt \"@[<2>%a => @,%a@]\" pp_key key pp_a v in\n",
    "      ignore (M.fold (fun key v is_fst ->\n",
    "                        if is_fst then pp_each key fmt v\n",
    "                        else fprintf fmt \";@;%a\" (pp_each key) v;\n",
    "                        false) map true);\n",
    "      fprintf fmt \"}@]\"\n",
    "  end\n",
    "end"
   ]
  },
  {
   "cell_type": "code",
   "execution_count": null,
   "metadata": {},
   "outputs": [],
   "source": [
    "(* 使い方 *)\n",
    "# module IntSet = Set.Make (struct type t = int let compare = compare end);;\n",
    "...(出力は省略)...\n",
    "# let pp_int_set = IntSet.pp_t pp_int;;\n",
    "val pp_int_set : Format.formatter -> IntSet.t -> unit = <fun>\n",
    "# Format.printf \"IntSet = %a@.\" pp_int_set\n",
    "    (IntSet.add 1 (IntSet.add 2 (IntSet.singleton 3)));;\n",
    "IntSet = {1, 2, 3}\n",
    "- : unit = ()\n",
    "# module StrMap = Map.Make (struct type t = string let compare = compare end);;\n",
    "...(出力は省略)...\n",
    "# let pp_str_int_map = StrMap.pp_t pp_string pp_int;;\n",
    "val pp_str_int_map : Format.formatter -> int StrMap.t -> unit = <fun>\n",
    "# Format.printf \"int StrMap = %a@.\" pp_str_int_map\n",
    "    (StrMap.add \"hoge\" 1 (StrMap.add \"fuga\" 2 StrMap.empty));;\n",
    "int StrMap = {\"fuga\" => 2; \"hoge\" => 1}\n",
    "- : unit = ()"
   ]
  },
  {
   "cell_type": "code",
   "execution_count": 1,
   "metadata": {},
   "outputs": [
    {
     "data": {
      "text/plain": [
       "val a : x:int -> ?y:int -> int -> int = <fun>\n"
      ]
     },
     "execution_count": 1,
     "metadata": {},
     "output_type": "execute_result"
    }
   ],
   "source": [
    "let a ~x ?(y=10) z = x + y - z"
   ]
  },
  {
   "cell_type": "code",
   "execution_count": null,
   "metadata": {},
   "outputs": [],
   "source": []
  }
 ],
 "metadata": {
  "kernelspec": {
   "display_name": "OCaml 4.07.1",
   "language": "OCaml",
   "name": "ocaml-jupyter"
  },
  "language_info": {
   "codemirror_mode": "text/x-ocaml",
   "file_extension": ".ml",
   "mimetype": "text/x-ocaml",
   "name": "OCaml",
   "nbconverter_exporter": null,
   "pygments_lexer": "OCaml",
   "version": "4.07.1"
  }
 },
 "nbformat": 4,
 "nbformat_minor": 2
}
