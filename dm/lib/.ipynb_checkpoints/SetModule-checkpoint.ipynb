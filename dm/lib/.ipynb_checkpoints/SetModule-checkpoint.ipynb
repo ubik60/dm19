{
 "cells": [
  {
   "cell_type": "code",
   "execution_count": 103,
   "metadata": {},
   "outputs": [],
   "source": [
    "#require \"fmt\";;"
   ]
  },
  {
   "cell_type": "code",
   "execution_count": 104,
   "metadata": {
    "collapsed": true
   },
   "outputs": [
    {
     "data": {
      "text/plain": [
       "type 'a fmt = 'a Fmt.t\n"
      ]
     },
     "execution_count": 104,
     "metadata": {},
     "output_type": "execute_result"
    },
    {
     "data": {
      "text/plain": [
       "module type Ord = sig type t val compare : t -> t -> int val pp : t fmt end\n"
      ]
     },
     "execution_count": 104,
     "metadata": {},
     "output_type": "execute_result"
    },
    {
     "data": {
      "text/plain": [
       "module type S =\n",
       "  sig\n",
       "    type elt\n",
       "    type t\n",
       "    val empty : t\n",
       "    val is_empty : t -> bool\n",
       "    val mem : elt -> t -> bool\n",
       "    val add : elt -> t -> t\n",
       "    val singleton : elt -> t\n",
       "    val remove : elt -> t -> t\n",
       "    val union : t -> t -> t\n",
       "    val inter : t -> t -> t\n",
       "    val diff : t -> t -> t\n",
       "    val compare : t -> t -> int\n",
       "    val equal : t -> t -> bool\n",
       "    val subset : t -> t -> bool\n",
       "    val iter : (elt -> unit) -> t -> unit\n",
       "    val map : (elt -> elt) -> t -> t\n",
       "    val fold : (elt -> 'a -> 'a) -> t -> 'a -> 'a\n",
       "    val for_all : (elt -> bool) -> t -> bool\n",
       "    val exists : (elt -> bool) -> t -> bool\n",
       "    val filter : (elt -> bool) -> t -> t\n",
       "    val partition : (elt -> bool) -> t -> t * t\n",
       "    val cardinal : t -> int\n",
       "    val elements : t -> elt list\n",
       "    val min_elt : t -> elt\n",
       "    val min_elt_opt : t -> elt option\n",
       "    val max_elt : t -> elt\n",
       "    val max_elt_opt : t -> elt option\n",
       "    val choose : t -> elt\n",
       "    val choose_opt : t -> elt option\n",
       "    val split : elt -> t -> t * bool * t\n",
       "    val find : elt -> t -> elt\n",
       "    val find_opt : elt -> t -> elt option\n",
       "    val find_first : (elt -> bool) -> t -> elt\n",
       "    val find_first_opt : (elt -> bool) -> t -> elt option\n",
       "    val find_last : (elt -> bool) -> t -> elt\n",
       "    val find_last_opt : (elt -> bool) -> t -> elt option\n",
       "    val of_list : elt list -> t\n",
       "    val to_seq_from : elt -> t -> elt Seq.t\n",
       "    val to_seq : t -> elt Seq.t\n",
       "    val add_seq : elt Seq.t -> t -> t\n",
       "    val of_seq : elt Seq.t -> t\n",
       "    module Elt :\n",
       "      sig type t = elt val compare : t -> t -> int val pp : t fmt end\n",
       "    val pp_of_elt : ?maxnum:int -> pp_elt:elt fmt -> t fmt\n",
       "    val pp : t fmt\n",
       "  end\n"
      ]
     },
     "execution_count": 104,
     "metadata": {},
     "output_type": "execute_result"
    },
    {
     "data": {
      "text/plain": [
       "module Make :\n",
       "  functor (Elt : Ord) ->\n",
       "    sig\n",
       "      type elt = Elt.t\n",
       "      type t\n",
       "      val empty : t\n",
       "      val is_empty : t -> bool\n",
       "      val mem : elt -> t -> bool\n",
       "      val add : elt -> t -> t\n",
       "      val singleton : elt -> t\n",
       "      val remove : elt -> t -> t\n",
       "      val union : t -> t -> t\n",
       "      val inter : t -> t -> t\n",
       "      val diff : t -> t -> t\n",
       "      val compare : t -> t -> int\n",
       "      val equal : t -> t -> bool\n",
       "      val subset : t -> t -> bool\n",
       "      val iter : (elt -> unit) -> t -> unit\n",
       "      val map : (elt -> elt) -> t -> t\n",
       "      val fold : (elt -> 'a -> 'a) -> t -> 'a -> 'a\n",
       "      val for_all : (elt -> bool) -> t -> bool\n",
       "      val exists : (elt -> bool) -> t -> bool\n",
       "      val filter : (elt -> bool) -> t -> t\n",
       "      val partition : (elt -> bool) -> t -> t * t\n",
       "      val cardinal : t -> int\n",
       "      val elements : t -> elt list\n",
       "      val min_elt : t -> elt\n",
       "      val min_elt_opt : t -> elt option\n",
       "      val max_elt : t -> elt\n",
       "      val max_elt_opt : t -> elt option\n",
       "      val choose : t -> elt\n",
       "      val choose_opt : t -> elt option\n",
       "      val split : elt -> t -> t * bool * t\n",
       "      val find : elt -> t -> elt\n",
       "      val find_opt : elt -> t -> elt option\n",
       "      val find_first : (elt -> bool) -> t -> elt\n",
       "      val find_first_opt : (elt -> bool) -> t -> elt option\n",
       "      val find_last : (elt -> bool) -> t -> elt\n",
       "      val find_last_opt : (elt -> bool) -> t -> elt option\n",
       "      val of_list : elt list -> t\n",
       "      val to_seq_from : elt -> t -> elt Seq.t\n",
       "      val to_seq : t -> elt Seq.t\n",
       "      val add_seq : elt Seq.t -> t -> t\n",
       "      val of_seq : elt Seq.t -> t\n",
       "      module Elt :\n",
       "        sig type t = elt val compare : t -> t -> int val pp : t fmt end\n",
       "      val pp_of_elt : ?maxnum:int -> pp_elt:elt fmt -> t fmt\n",
       "      val pp : t fmt\n",
       "    end\n"
      ]
     },
     "execution_count": 104,
     "metadata": {},
     "output_type": "execute_result"
    }
   ],
   "source": [
    "open Fmt\n",
    "\n",
    "type 'a fmt = 'a Fmt.t\n",
    "\n",
    "\n",
    "module type Ord = \n",
    "sig \n",
    "    include Set.OrderedType\n",
    "    val pp: t fmt \n",
    "end\n",
    "\n",
    "module type S = \n",
    "sig\n",
    "    type elt\n",
    "    include Set.S with type elt := elt \n",
    "  \n",
    "    module Elt:(Ord with type t = elt)\n",
    "  \n",
    "  (** [let pps = pp ~maxnum:n pp_elt:ppe] returns a pretty printer that can be\n",
    "     installed in the toplevel with [#install_printer pps;;] *)\n",
    "    val pp_of_elt: ?maxnum:int -> pp_elt:elt fmt -> t fmt\n",
    "    val pp: t fmt\n",
    "end\n",
    "\n",
    "module Make(Elt:Ord) : S with type elt = Elt.t = \n",
    "struct\n",
    "  include Stdlib.Set.Make(Elt)\n",
    "\n",
    "  module Elt = Elt\n",
    "  \n",
    "  let pp_of_elt ?(maxnum=1000) ~pp_elt out t = \n",
    "      fprintf out \"@[<1>{\";\n",
    "      let prelt elt count =\n",
    "        let () = match count with\n",
    "            | 0 -> pp_elt out elt\n",
    "            | n when n < maxnum -> fprintf out \",@;%a\" pp_elt elt\n",
    "            | n  -> if n = maxnum then fprintf out \" ...@;\" else ()\n",
    "        in count+1\n",
    "      in\n",
    "          fold prelt t 0 |> ignore;\n",
    "      fprintf out \"}@]\"\n",
    "      \n",
    "  let pp = pp_of_elt ~maxnum:300 ~pp_elt:Elt.pp \n",
    "  \n",
    "end"
   ]
  },
  {
   "cell_type": "code",
   "execution_count": 117,
   "metadata": {
    "collapsed": true
   },
   "outputs": [
    {
     "data": {
      "text/plain": [
       "module type Rel =\n",
       "  sig\n",
       "    type domain\n",
       "    type codomain\n",
       "    type elt = domain * codomain\n",
       "    type t\n",
       "    val empty : t\n",
       "    val is_empty : t -> bool\n",
       "    val mem : elt -> t -> bool\n",
       "    val add : elt -> t -> t\n",
       "    val singleton : elt -> t\n",
       "    val remove : elt -> t -> t\n",
       "    val union : t -> t -> t\n",
       "    val inter : t -> t -> t\n",
       "    val diff : t -> t -> t\n",
       "    val compare : t -> t -> int\n",
       "    val equal : t -> t -> bool\n",
       "    val subset : t -> t -> bool\n",
       "    val iter : (elt -> unit) -> t -> unit\n",
       "    val map : (elt -> elt) -> t -> t\n",
       "    val fold : (elt -> 'a -> 'a) -> t -> 'a -> 'a\n",
       "    val for_all : (elt -> bool) -> t -> bool\n",
       "    val exists : (elt -> bool) -> t -> bool\n",
       "    val filter : (elt -> bool) -> t -> t\n",
       "    val partition : (elt -> bool) -> t -> t * t\n",
       "    val cardinal : t -> int\n",
       "    val elements : t -> elt list\n",
       "    val min_elt : t -> elt\n",
       "    val min_elt_opt : t -> elt option\n",
       "    val max_elt : t -> elt\n",
       "    val max_elt_opt : t -> elt option\n",
       "    val choose : t -> elt\n",
       "    val choose_opt : t -> elt option\n",
       "    val split : elt -> t -> t * bool * t\n",
       "    val find : elt -> t -> elt\n",
       "    val find_opt : elt -> t -> elt option\n",
       "    val find_first : (elt -> bool) -> t -> elt\n",
       "    val find_first_opt : (elt -> bool) -> t -> elt option\n",
       "    val find_last : (elt -> bool) -> t -> elt\n",
       "    val find_last_opt : (elt -> bool) -> t -> elt option\n",
       "    val of_list : elt list -> t\n",
       "    val to_seq_from : elt -> t -> elt Seq.t\n",
       "    val to_seq : t -> elt Seq.t\n",
       "    val add_seq : elt Seq.t -> t -> t\n",
       "    val of_seq : elt Seq.t -> t\n",
       "    module Elt :\n",
       "      sig type t = elt val compare : t -> t -> int val pp : t fmt end\n",
       "    val pp_of_elt : ?maxnum:int -> pp_elt:elt fmt -> t fmt\n",
       "    val pp : t fmt\n",
       "    val product : domain -> codomain -> t\n",
       "  end\n"
      ]
     },
     "execution_count": 117,
     "metadata": {},
     "output_type": "execute_result"
    }
   ],
   "source": [
    "module type Rel = sig \n",
    "\n",
    "    type domain\n",
    "    type codomain\n",
    "    \n",
    "    include S with type elt = domain*codomain\n",
    "  \n",
    "\n",
    "    \n",
    "    val product: domain -> codomain -> t\n",
    "end"
   ]
  },
  {
   "cell_type": "code",
   "execution_count": 122,
   "metadata": {},
   "outputs": [
    {
     "ename": "error",
     "evalue": "compile_error",
     "output_type": "error",
     "traceback": [
      "\u001b[32mFile \"[122]\", line 3, characters 2-558:\n\u001b[31mError: Signature mismatch:\n       ...\n       Values do not match:\n         val product : A.t -> B.t -> t\n       is not included in\n         val product : domain -> codomain -> t\n       File \"[117]\", line 10, characters 4-40: Expected declaration\n       File \"[122]\", line 16, characters 8-15: Actual declaration\n\u001b[36m   2: \u001b[30m    with type domain = A.elt and type codomain = B.elt \n\u001b[36m   3: \u001b[30m= \u001b[4mstruct\u001b[0m\n\u001b[36m   4: \u001b[30m\u001b[4m    type domain = A.elt\u001b[0m\n\u001b[36m   5: \u001b[30m\u001b[4m    type codomain = B.elt\u001b[0m\n\u001b[36m   6: \u001b[30m\u001b[4m    include Make(struct \u001b[0m\n\u001b[36m   7: \u001b[30m\u001b[4m        type t = A.elt * B.elt\u001b[0m\n\u001b[36m   8: \u001b[30m\u001b[4m        let compare (x:t) (y:t) = \u001b[0m\n\u001b[36m   9: \u001b[30m\u001b[4m            match A.Elt.compare (fst x) (fst y) with\u001b[0m\n\u001b[36m  10: \u001b[30m\u001b[4m            | 0 -> B.Elt.compare (snd x) (snd y)\u001b[0m\n\u001b[36m  11: \u001b[30m\u001b[4m            | n -> n\u001b[0m\n\u001b[36m  12: \u001b[30m\u001b[4m        let pp out t = \u001b[0m\n\u001b[36m  13: \u001b[30m\u001b[4m            Fmt.pair ~sep:Fmt.comma (A.Elt.pp) (B.Elt.pp) out t\u001b[0m\n\u001b[36m  14: \u001b[30m\u001b[4m    end) (* : S with type elt = domain*codomain *)\u001b[0m\n\u001b[36m  15: \u001b[30m\u001b[4m    \u001b[0m\n\u001b[36m  16: \u001b[30m\u001b[4m    let product aset bset = \u001b[0m\n\u001b[36m  17: \u001b[30m\u001b[4m        A.fold (fun a s -> \u001b[0m\n\u001b[36m  18: \u001b[30m\u001b[4m            s |> B.fold (fun b s' -> add (a,b) s') bset) \u001b[0m\n\u001b[36m  19: \u001b[30m\u001b[4m            aset empty\u001b[0m\n\u001b[36m  20: \u001b[30m\u001b[4mend\u001b[0m\n"
     ]
    }
   ],
   "source": [
    "module Relation (A:S) (B:S) : Rel \n",
    "    with type domain = A.elt and type codomain = B.elt \n",
    "= struct\n",
    "    type domain = A.elt\n",
    "    type codomain = B.elt\n",
    "    include Make(struct \n",
    "        type t = A.elt * B.elt\n",
    "        let compare (x:t) (y:t) = \n",
    "            match A.Elt.compare (fst x) (fst y) with\n",
    "            | 0 -> B.Elt.compare (snd x) (snd y)\n",
    "            | n -> n\n",
    "        let pp out t = \n",
    "            Fmt.pair ~sep:Fmt.comma (A.Elt.pp) (B.Elt.pp) out t\n",
    "    end) (* : S with type elt = domain*codomain *)\n",
    "    \n",
    "    let product aset bset = \n",
    "        A.fold (fun a s -> \n",
    "            s |> B.fold (fun b s' -> add (a,b) s') bset) \n",
    "            aset empty\n",
    "end"
   ]
  },
  {
   "cell_type": "code",
   "execution_count": 97,
   "metadata": {},
   "outputs": [
    {
     "data": {
      "text/plain": [
       "module Int : Order\n"
      ]
     },
     "execution_count": 97,
     "metadata": {},
     "output_type": "execute_result"
    },
    {
     "data": {
      "text/plain": [
       "module Str : Order\n"
      ]
     },
     "execution_count": 97,
     "metadata": {},
     "output_type": "execute_result"
    }
   ],
   "source": [
    "module Int:Order =\n",
    "struct \n",
    "    type t = int    \n",
    "    let compare = compare \n",
    "    let pp = Fmt.int\n",
    "end\n",
    "\n",
    "module Str:Order =\n",
    "struct \n",
    "    type t = string \n",
    "    let compare = compare \n",
    "    let pp = Fmt.string\n",
    "end"
   ]
  },
  {
   "cell_type": "code",
   "execution_count": 115,
   "metadata": {},
   "outputs": [
    {
     "data": {
      "text/plain": [
       "module Sint : S\n"
      ]
     },
     "execution_count": 115,
     "metadata": {},
     "output_type": "execute_result"
    },
    {
     "data": {
      "text/plain": [
       "module Sstr : S\n"
      ]
     },
     "execution_count": 115,
     "metadata": {},
     "output_type": "execute_result"
    },
    {
     "data": {
      "text/plain": [
       "module Rintstr :\n",
       "  sig\n",
       "    type elt = Sstr.elt * Sint.elt\n",
       "    type t = Relation(Sstr)(Sint).t\n",
       "    val empty : t\n",
       "    val is_empty : t -> bool\n",
       "    val mem : elt -> t -> bool\n",
       "    val add : elt -> t -> t\n",
       "    val singleton : elt -> t\n",
       "    val remove : elt -> t -> t\n",
       "    val union : t -> t -> t\n",
       "    val inter : t -> t -> t\n",
       "    val diff : t -> t -> t\n",
       "    val compare : t -> t -> int\n",
       "    val equal : t -> t -> bool\n",
       "    val subset : t -> t -> bool\n",
       "    val iter : (elt -> unit) -> t -> unit\n",
       "    val map : (elt -> elt) -> t -> t\n",
       "    val fold : (elt -> 'a -> 'a) -> t -> 'a -> 'a\n",
       "    val for_all : (elt -> bool) -> t -> bool\n",
       "    val exists : (elt -> bool) -> t -> bool\n",
       "    val filter : (elt -> bool) -> t -> t\n",
       "    val partition : (elt -> bool) -> t -> t * t\n",
       "    val cardinal : t -> int\n",
       "    val elements : t -> elt list\n",
       "    val min_elt : t -> elt\n",
       "    val min_elt_opt : t -> elt option\n",
       "    val max_elt : t -> elt\n",
       "    val max_elt_opt : t -> elt option\n",
       "    val choose : t -> elt\n",
       "    val choose_opt : t -> elt option\n",
       "    val split : elt -> t -> t * bool * t\n",
       "    val find : elt -> t -> elt\n",
       "    val find_opt : elt -> t -> elt option\n",
       "    val find_first : (elt -> bool) -> t -> elt\n",
       "    val find_first_opt : (elt -> bool) -> t -> elt option\n",
       "    val find_last : (elt -> bool) -> t -> elt\n",
       "    val find_last_opt : (elt -> bool) -> t -> elt option\n",
       "    val of_list : elt list -> t\n",
       "    val to_seq_from : elt -> t -> elt Seq.t\n",
       "    val to_seq : t -> elt Seq.t\n",
       "    val add_seq : elt Seq.t -> t -> t\n",
       "    val of_seq : elt Seq.t -> t\n",
       "    module Elt :\n",
       "      sig type t = elt val compare : t -> t -> int val pp : t fmt end\n",
       "    val pp_of_elt : ?maxnum:int -> pp_elt:elt fmt -> t fmt\n",
       "    val pp : t fmt\n",
       "    val product : Sstr.t -> Sint.t -> t\n",
       "  end\n"
      ]
     },
     "execution_count": 115,
     "metadata": {},
     "output_type": "execute_result"
    }
   ],
   "source": [
    "module Sint : S = Make(Int)\n",
    "module Sstr : S = Make(Str)\n",
    "module Rintstr = Relation(Sstr)(Sint) : Rel"
   ]
  },
  {
   "cell_type": "code",
   "execution_count": null,
   "metadata": {},
   "outputs": [],
   "source": []
  },
  {
   "cell_type": "code",
   "execution_count": null,
   "metadata": {},
   "outputs": [],
   "source": []
  },
  {
   "cell_type": "code",
   "execution_count": null,
   "metadata": {},
   "outputs": [],
   "source": []
  },
  {
   "cell_type": "code",
   "execution_count": 101,
   "metadata": {},
   "outputs": [
    {
     "data": {
      "text/plain": [
       "type r = { a : int; b : float; c : bool; }\n"
      ]
     },
     "execution_count": 101,
     "metadata": {},
     "output_type": "execute_result"
    },
    {
     "data": {
      "text/plain": [
       "val zero : r = {a = 0; b = 0.; c = false}\n"
      ]
     },
     "execution_count": 101,
     "metadata": {},
     "output_type": "execute_result"
    },
    {
     "data": {
      "text/plain": [
       "val r : r = {a = 2; b = 2.; c = false}\n"
      ]
     },
     "execution_count": 101,
     "metadata": {},
     "output_type": "execute_result"
    },
    {
     "data": {
      "text/plain": [
       "val setzero : ?b:float -> bool -> r -> r = <fun>\n"
      ]
     },
     "execution_count": 101,
     "metadata": {},
     "output_type": "execute_result"
    }
   ],
   "source": [
    "type r = {a:int; b:float; c:bool}\n",
    "let zero:r = {a=0; b=0.0; c=false}\n",
    "let r  = {zero with a = 2; b = 2.0}\n",
    "let setzero ?(b=0.0) c r = {r with b; c}"
   ]
  },
  {
   "cell_type": "code",
   "execution_count": 102,
   "metadata": {},
   "outputs": [
    {
     "data": {
      "text/plain": [
       "- : int list = [0; -1; 1; -1; 1]\n"
      ]
     },
     "execution_count": 102,
     "metadata": {},
     "output_type": "execute_result"
    }
   ],
   "source": [
    "let _ = [\n",
    "Pervasives.compare r r;\n",
    "Pervasives.compare zero r;\n",
    "Pervasives.compare r ({r with b = r.b -. 0.1 });\n",
    "Pervasives.compare r ({r with c = true });\n",
    "Pervasives.compare r ({r with a = r.a - 1; c = true });\n",
    "]"
   ]
  },
  {
   "cell_type": "code",
   "execution_count": null,
   "metadata": {},
   "outputs": [],
   "source": []
  },
  {
   "cell_type": "code",
   "execution_count": null,
   "metadata": {},
   "outputs": [],
   "source": []
  },
  {
   "cell_type": "code",
   "execution_count": null,
   "metadata": {},
   "outputs": [],
   "source": []
  },
  {
   "cell_type": "code",
   "execution_count": 37,
   "metadata": {},
   "outputs": [
    {
     "name": "stderr",
     "output_type": "stream",
     "text": [
      "/home/ajj/.opam/4.07.1/lib/uchar: added to search path\n",
      "/home/ajj/.opam/4.07.1/lib/result: added to search path\n",
      "/home/ajj/.opam/4.07.1/lib/result/result.cma: loaded\n",
      "/home/ajj/.opam/4.07.1/lib/fmt: added to search path\n",
      "/home/ajj/.opam/4.07.1/lib/fmt/fmt.cma: loaded\n"
     ]
    }
   ],
   "source": []
  },
  {
   "cell_type": "code",
   "execution_count": 38,
   "metadata": {},
   "outputs": [
    {
     "name": "stdout",
     "output_type": "stream",
     "text": [
      "module Fmt :\n",
      "  sig\n",
      "    val pf :\n",
      "      Format.formatter ->\n",
      "      ('a, Format.formatter, unit) Pervasives.format -> 'a\n",
      "    val kpf :\n",
      "      (Format.formatter -> 'a) ->\n",
      "      Format.formatter -> ('b, Format.formatter, unit, 'a) format4 -> 'b\n",
      "    val strf : ('a, Format.formatter, unit, string) format4 -> 'a\n",
      "    val kstrf :\n",
      "      (string -> 'a) -> ('b, Format.formatter, unit, 'a) format4 -> 'b\n",
      "    val strf_like :\n",
      "      Format.formatter -> ('a, Format.formatter, unit, string) format4 -> 'a\n",
      "    val with_buffer : ?like:Format.formatter -> Buffer.t -> Format.formatter\n",
      "    val stdout : Format.formatter\n",
      "    val stderr : Format.formatter\n",
      "    val pr : ('a, Format.formatter, unit) format -> 'a\n",
      "    val epr : ('a, Format.formatter, unit) format -> 'a\n",
      "    val failwith : ('a, Format.formatter, unit, 'b) format4 -> 'a\n",
      "    val invalid_arg : ('a, Format.formatter, unit, 'b) format4 -> 'a\n",
      "    type 'a t = Format.formatter -> 'a -> unit\n",
      "    val nop : 'a t\n",
      "    val cut : unit t\n",
      "    val sp : unit t\n",
      "    val comma : unit t\n",
      "    val const : 'a t -> 'a -> unit t\n",
      "    val unit : (unit, Format.formatter, unit) Pervasives.format -> unit t\n",
      "    val fmt :\n",
      "      ('a, Format.formatter, unit) Pervasives.format ->\n",
      "      Format.formatter -> 'a\n",
      "    val always : (unit, Format.formatter, unit) Pervasives.format -> 'a t\n",
      "    val bool : bool t\n",
      "    val int : int t\n",
      "    val nativeint : nativeint t\n",
      "    val int32 : int32 t\n",
      "    val int64 : int64 t\n",
      "    val uint : int t\n",
      "    val unativeint : nativeint t\n",
      "    val uint32 : int32 t\n",
      "    val uint64 : int64 t\n",
      "    val float : float t\n",
      "    val float_dfrac : int -> float t\n",
      "    val float_dsig : int -> float t\n",
      "    val char : char t\n",
      "    val string : string t\n",
      "    val buffer : Buffer.t t\n",
      "    val exn : exn t\n",
      "    val exn_backtrace : (exn * Printexc.raw_backtrace) t\n",
      "    val pair : ?sep:unit t -> 'a t -> 'b t -> ('a * 'b) t\n",
      "    val option : ?none:unit t -> 'a t -> 'a option t\n",
      "    val result : ok:'a t -> error:'b t -> ('a, 'b) Result.result t\n",
      "    val list : ?sep:unit t -> 'a t -> 'a list t\n",
      "    val array : ?sep:unit t -> 'a t -> 'a array t\n",
      "    val hashtbl : ?sep:unit t -> ('a * 'b) t -> ('a, 'b) Hashtbl.t t\n",
      "    val queue : ?sep:unit t -> 'a t -> 'a Queue.t t\n",
      "    val stack : ?sep:unit t -> 'a t -> 'a Stack.t t\n",
      "    val iter : ?sep:unit t -> (('a -> unit) -> 'b -> unit) -> 'a t -> 'b t\n",
      "    val iter_bindings :\n",
      "      ?sep:unit t ->\n",
      "      (('a -> 'b -> unit) -> 'c -> unit) -> ('a * 'b) t -> 'c t\n",
      "    val using : ('a -> 'b) -> 'b t -> 'a t\n",
      "    module Dump : sig ... end\n",
      "    val box : ?indent:int -> 'a t -> 'a t\n",
      "    val hbox : 'a t -> 'a t\n",
      "    val vbox : ?indent:int -> 'a t -> 'a t\n",
      "    val hvbox : ?indent:int -> 'a t -> 'a t\n",
      "    val parens : 'a t -> 'a t\n",
      "    val brackets : 'a t -> 'a t\n",
      "    val braces : 'a t -> 'a t\n",
      "    val quote : ?mark:string -> 'a t -> 'a t\n",
      "    val words : string t\n",
      "    val paragraphs : string t\n",
      "    val text : string t\n",
      "    val lines : string t\n",
      "    val text_loc : ((int * int) * (int * int)) t\n",
      "    val append : 'a t -> 'b t -> ('a * 'b) t\n",
      "    val prefix : unit t -> 'a t -> 'a t\n",
      "    val suffix : unit t -> 'a t -> 'a t\n",
      "    val byte_size : int t\n",
      "    val bi_byte_size : int t\n",
      "    val if_utf_8 : 'a t -> 'a t -> 'a t\n",
      "    val utf_8 : Format.formatter -> bool\n",
      "    val set_utf_8 : Format.formatter -> bool -> unit\n",
      "    type style =\n",
      "        [ `Black\n",
      "        | `Blue\n",
      "        | `Bold\n",
      "        | `Cyan\n",
      "        | `Green\n",
      "        | `Magenta\n",
      "        | `None\n",
      "        | `Red\n",
      "        | `Underline\n",
      "        | `White\n",
      "        | `Yellow ]\n",
      "    val styled : style -> 'a t -> 'a t\n",
      "    val styled_unit :\n",
      "      style -> (unit, Format.formatter, unit) Pervasives.format -> unit t\n",
      "    type style_renderer = [ `Ansi_tty | `None ]\n",
      "    val style_renderer : Format.formatter -> style_renderer\n",
      "    val set_style_renderer : Format.formatter -> style_renderer -> unit\n",
      "    val of_to_string : ('a -> string) -> 'a t\n",
      "    val to_to_string : 'a t -> 'a -> string\n",
      "  end\n"
     ]
    }
   ],
   "source": [
    "#show Fmt;;"
   ]
  },
  {
   "cell_type": "code",
   "execution_count": null,
   "metadata": {},
   "outputs": [],
   "source": []
  }
 ],
 "metadata": {
  "kernelspec": {
   "display_name": "OCaml 4.07.1",
   "language": "OCaml",
   "name": "ocaml-jupyter"
  },
  "language_info": {
   "codemirror_mode": "text/x-ocaml",
   "file_extension": ".ml",
   "mimetype": "text/x-ocaml",
   "name": "OCaml",
   "nbconverter_exporter": null,
   "pygments_lexer": "OCaml",
   "version": "4.07.1"
  }
 },
 "nbformat": 4,
 "nbformat_minor": 2
}
